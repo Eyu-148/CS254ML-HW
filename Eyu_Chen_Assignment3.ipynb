{
  "nbformat": 4,
  "nbformat_minor": 0,
  "metadata": {
    "kernelspec": {
      "display_name": "Python 3",
      "language": "python",
      "name": "python3"
    },
    "language_info": {
      "codemirror_mode": {
        "name": "ipython",
        "version": 3
      },
      "file_extension": ".py",
      "mimetype": "text/x-python",
      "name": "python",
      "nbconvert_exporter": "python",
      "pygments_lexer": "ipython3",
      "version": "3.8.8"
    },
    "colab": {
      "name": "Eyu_Chen_Assignment3 .ipynb",
      "provenance": [],
      "include_colab_link": true
    }
  },
  "cells": [
    {
      "cell_type": "markdown",
      "metadata": {
        "id": "view-in-github",
        "colab_type": "text"
      },
      "source": [
        "<a href=\"https://colab.research.google.com/github/Eyu-148/CS254ML-HW/blob/main/Eyu_Chen_Assignment3.ipynb\" target=\"_parent\"><img src=\"https://colab.research.google.com/assets/colab-badge.svg\" alt=\"Open In Colab\"/></a>"
      ]
    },
    {
      "cell_type": "markdown",
      "metadata": {
        "id": "ZHjmkdJFUJWq"
      },
      "source": [
        "# Assignment 3"
      ]
    },
    {
      "cell_type": "code",
      "metadata": {
        "id": "N2IyCpeDUJWt"
      },
      "source": [
        "import os\n",
        "import numpy as np\n",
        "import pandas as pd\n",
        "from past.builtins import xrange\n",
        "from scipy.special import expit\n",
        "import matplotlib.pyplot as plt\n",
        "\n",
        "from sklearn.linear_model import LinearRegression\n",
        "from sklearn.metrics import mean_squared_error\n",
        "\n",
        "%matplotlib inline\n",
        "\n",
        "import warnings\n",
        "warnings.filterwarnings('ignore')"
      ],
      "execution_count": null,
      "outputs": []
    },
    {
      "cell_type": "markdown",
      "metadata": {
        "id": "O2xU9XeCUJWu"
      },
      "source": [
        "# Assignment 3 - Part 1(Logistic regression without regularization)\n",
        "\n",
        "In this exercise, you will implement logistic regression and apply it to the dataset Iris.csv\n",
        "\n",
        "In this dataset there are two continuous variables named \"PetalLengthCm\" and \"PetalWidthCm\". Yhe type of flower associated with these features is assigned in the \"species\" column. Setosa is labeled as 0 and Versicolor is labeled as 1. Your task will be to classify between these two types of flowers.  \n"
      ]
    },
    {
      "cell_type": "markdown",
      "metadata": {
        "collapsed": true,
        "id": "uvbvLqLSUJWv"
      },
      "source": [
        "### Part 1, Q1 -  [20 pts]\n",
        "\n",
        "1. [10 points] Load the data and split it into X(feature vectors) and Y(target/output vectors)."
      ]
    },
    {
      "cell_type": "code",
      "metadata": {
        "colab": {
          "base_uri": "https://localhost:8080/"
        },
        "id": "rbKvM2bvUJWv",
        "outputId": "df8f0939-0825-451f-f2fe-d68065ca5316"
      },
      "source": [
        "# Load iris dataset\n",
        "# Note: This dataset must be contained in a \"data\" folder\n",
        "path = 'https://raw.githubusercontent.com/Eyu-148/CS254ML-HW/main/Iris.csv'\n",
        "data = pd.read_csv(path)\n",
        "data.head()\n",
        "print(data)\n",
        "\n",
        "data['ones'] = np.ones(data.shape[0])\n",
        "\n",
        "# Split data into X and Y\n",
        "x = data[[\"PetalLengthCm\", \"PetalWidthCm\", \"ones\"]].values\n",
        "y = data[\"Species\"].values.reshape(len(data),1)\n",
        "print(np.shape(x), np.shape(y), np.shape(x.T))"
      ],
      "execution_count": null,
      "outputs": [
        {
          "output_type": "stream",
          "name": "stdout",
          "text": [
            "     Id  PetalLengthCm  PetalWidthCm  Species\n",
            "0     1            1.4           0.2        0\n",
            "1     2            1.4           0.2        0\n",
            "2     3            1.3           0.2        0\n",
            "3     4            1.5           0.2        0\n",
            "4     5            1.4           0.2        0\n",
            "..  ...            ...           ...      ...\n",
            "95   96            4.2           1.2        1\n",
            "96   97            4.2           1.3        1\n",
            "97   98            4.3           1.3        1\n",
            "98   99            3.0           1.1        1\n",
            "99  100            4.1           1.3        1\n",
            "\n",
            "[100 rows x 4 columns]\n",
            "(100, 3) (100, 1) (3, 100)\n"
          ]
        }
      ]
    },
    {
      "cell_type": "markdown",
      "metadata": {
        "id": "b-f2rtS7UJWw"
      },
      "source": [
        "2. [10 points] Visualize the data. \n",
        "For visualizing,PetalLengthCm will be in the X-axis and PetalWidthCm will be on the Y-axis. Additionally, assign '+' for Setosa points and 'o' for versicolor points.for Setosa, and circle for versicolor."
      ]
    },
    {
      "cell_type": "code",
      "metadata": {
        "id": "PSxqSXORUJWx",
        "outputId": "45569cc2-f8b4-426d-c41a-5fd8adfd2de0"
      },
      "source": [
        "# Write your code here\n",
        "# Reading through by Id, which should be i\n",
        "# for id in data.values[:, 0]:\n",
        "for (a, b, s) in zip(data.values[:,1], data.values[:,2], data.values[:,3]):\n",
        "    if s == 0:\n",
        "        plt.scatter(a, b, color='b', marker=\"+\")\n",
        "    if s == 1:\n",
        "        plt.scatter(a, b, color='b', marker=\"o\")"
      ],
      "execution_count": null,
      "outputs": [
        {
          "data": {
            "image/png": "[encoded data removed]",
            "text/plain": [
              "<Figure size 432x288 with 1 Axes>"
            ]
          },
          "metadata": {
            "needs_background": "light"
          },
          "output_type": "display_data"
        }
      ]
    },
    {
      "cell_type": "markdown",
      "metadata": {
        "id": "rpguSSERUJWy"
      },
      "source": [
        "### Part 1, Q2 -  [10 pts]\n",
        "\n",
        "Before you start with the implementation of the cost function and gradient descent algorithm for logistic Regression, at first implement the function \"sigmoid\"  that can be called by the rest of your program. Test it when you are finished. Try testing a few values by calling sigmoid(x). For large positive values of x, the sigmoid should be close to 1, while for large negative values, the sigmoid should be close to 0. Evaluating sigmoid(0) should give you exactly 0.5.\n",
        "The equation for sigma is \n",
        "![](https://github.com/Eyu-148/CS254ML-HW/blob/main/images/H1.png?raw=1)\n",
        "Here \n",
        "\n",
        "![](https://github.com/Eyu-148/CS254ML-HW/blob/main/images/H2.png?raw=1)\n",
        "\n",
        "The dimension of Z should be (100,1)"
      ]
    },
    {
      "cell_type": "code",
      "metadata": {
        "id": "7O5GTdZFUJWy"
      },
      "source": [
        "def sigmoid(Z):\n",
        "    return 1 / (1+np.exp(-Z))"
      ],
      "execution_count": null,
      "outputs": []
    },
    {
      "cell_type": "code",
      "metadata": {
        "id": "SdytPwjXUJWz",
        "outputId": "aeada3f9-8f20-41dd-a4fa-9260a0c9637e"
      },
      "source": [
        "# The following lines are for few test case check. You sigmoid should be fine if you are passing this test cases.\n",
        "assert sigmoid(0) == 0.5, \"The sigmoid function is wrong.\"\n",
        "assert 1.1 > sigmoid(100)  > 0.9999, \"The sigmoid function is wrong.\"\n",
        "assert -0.1 < sigmoid(-100) < 0.0001, \"The sigmoid function is wrong.\"\n",
        "\n",
        "# visual inspection\n",
        "# This below line will help you to test your sigmoid function for diiferrent values between -1 and 1. \n",
        "list(\"x: %6.3f sigx: %6.3f\"% (x, sigx) for (sigx, x) in  zip(sigmoid(np.linspace(-1,1,11)), np.linspace(-1,1,11)))\n",
        "# plt.plot(np.linspace(-6, 6, 101), sigmoid(np.linspace(-6, 6, 101)))"
      ],
      "execution_count": null,
      "outputs": [
        {
          "data": {
            "text/plain": [
              "['x: -1.000 sigx:  0.269',\n",
              " 'x: -0.800 sigx:  0.310',\n",
              " 'x: -0.600 sigx:  0.354',\n",
              " 'x: -0.400 sigx:  0.401',\n",
              " 'x: -0.200 sigx:  0.450',\n",
              " 'x:  0.000 sigx:  0.500',\n",
              " 'x:  0.200 sigx:  0.550',\n",
              " 'x:  0.400 sigx:  0.599',\n",
              " 'x:  0.600 sigx:  0.646',\n",
              " 'x:  0.800 sigx:  0.690',\n",
              " 'x:  1.000 sigx:  0.731']"
            ]
          },
          "execution_count": 9,
          "metadata": {},
          "output_type": "execute_result"
        }
      ]
    },
    {
      "cell_type": "markdown",
      "metadata": {
        "id": "ov6BfBJAUJW0"
      },
      "source": [
        "### Part 1, Q3 -  [20 pts]\n",
        "\n",
        "\n",
        "\n",
        "1.  [20 points] Implement cost function (calcLogRegressionCost) as detailed in the cell below.\n",
        "\n",
        "The vectorized equation for the cost function is given below for your convenient.  \n",
        "\n",
        "![](https://github.com/Eyu-148/CS254ML-HW/blob/main/images/J1.png?raw=1)\n",
        "\n",
        "\n",
        "\n",
        "Hint: Once you are done,  call your \"calcLogRegressionCost\" using the initial parameters of θ. You should see that the cost is about 0.693.\n",
        "\n",
        "Note: no need to add the regularization term. "
      ]
    },
    {
      "cell_type": "code",
      "metadata": {
        "id": "35R5a4QFUJW0"
      },
      "source": [
        "# You may change the number of parameters according to your wish for\n",
        "# all the funtions depending on your implementation.\n",
        "\n",
        "def calcLogRegressionCost(x, y, theta):\n",
        "    # x : the feature vector\n",
        "    # y : target vector / output vector\n",
        "    # theta : weight vector \n",
        "    \n",
        "    m = x.shape[0]\n",
        "    error = y.T.dot(np.log(sigmoid(x.dot(theta)))) + (1-y).T.dot(np.log(1-sigmoid(x.dot(theta))))\n",
        "    #cost = (np.dot(y.T, np.log(sigmoid(np.dot(x, theta)))) +  np.dot((1-y).T, np.log(1-sigmoid(np.dot(x, theta)))))/ -m\n",
        "    cost = error / -m\n",
        "    return cost\n",
        "\n",
        "def logRegressionGradientDescent(x, y, thetaInit, eta, epochs):\n",
        "    # x : feature vector\n",
        "    # Y : target vector/ output vector\n",
        "    # theta : weight vector \n",
        "    # eta : learning rate\n",
        "    # epochs : gradient descent steps taken\n",
        "    \n",
        "    m, d = x.shape\n",
        "    theta = thetaInit.copy()\n",
        "\n",
        "    losses = [calcLogRegressionCost(x, y, theta)]\n",
        "    for i in range(epochs):\n",
        "        gradient = 2 * (x.T.dot(sigmoid(x.dot(theta)) - y)) / m\n",
        "        theta -= eta * gradient\n",
        "        losses.append(calcLogRegressionCost(x, y, theta))\n",
        "\n",
        "    return theta, losses"
      ],
      "execution_count": null,
      "outputs": []
    },
    {
      "cell_type": "code",
      "metadata": {
        "id": "wHbW4pE1UJW1",
        "outputId": "d9abefcf-355e-4213-8e7c-026ac3e6572d"
      },
      "source": [
        "# This part is for testing your algorithms\n",
        "theta = np.zeros((x.shape[1], 1))\n",
        "print(calcLogRegressionCost(x, y, theta))\n",
        "# Desired output: 0.693..."
      ],
      "execution_count": null,
      "outputs": [
        {
          "name": "stdout",
          "output_type": "stream",
          "text": [
            "[[0.69314718]]\n"
          ]
        }
      ]
    },
    {
      "cell_type": "markdown",
      "metadata": {
        "id": "L5WXx-3BUJW1"
      },
      "source": [
        "### Part 1, Q4 -  [20 pts]\n",
        "\n",
        "As you have the gradient decent algorithm implemented"
      ]
    },
    {
      "cell_type": "markdown",
      "metadata": {
        "id": "HGtBJgY6UJW1"
      },
      "source": [
        "1. [10 Points] Run the gradient descent algorithm to fit your parameters theta to the training set."
      ]
    },
    {
      "cell_type": "code",
      "metadata": {
        "id": "GEA65JlqUJW1",
        "outputId": "5eafc1bc-f237-4158-fda2-3a990e2a5e2e"
      },
      "source": [
        "eta = 0.1 \n",
        "epochs = 5000\n",
        "thetaInit = np.zeros((x.shape[1], 1))\n",
        "theta, cost = logRegressionGradientDescent(x, y, thetaInit, eta, epochs)\n",
        "print(calcLogRegressionCost(x, y, thetaInit))"
      ],
      "execution_count": null,
      "outputs": [
        {
          "name": "stdout",
          "output_type": "stream",
          "text": [
            "[[0.69314718]]\n"
          ]
        }
      ]
    },
    {
      "cell_type": "markdown",
      "metadata": {
        "id": "G5ElVZ6zUJW2"
      },
      "source": [
        "2. [4 Points] Report optimal final θ."
      ]
    },
    {
      "cell_type": "code",
      "metadata": {
        "id": "ZtIi635kUJW2",
        "outputId": "dcab7599-6eee-4cef-fd1b-32934d3684b9"
      },
      "source": [
        "# Write your code here\n",
        "print(\"Optimal theta:\\n\", theta)"
      ],
      "execution_count": null,
      "outputs": [
        {
          "name": "stdout",
          "output_type": "stream",
          "text": [
            "Optimal theta:\n",
            " [[  2.80475893]\n",
            " [  4.23880022]\n",
            " [-10.18403071]]\n"
          ]
        }
      ]
    },
    {
      "cell_type": "markdown",
      "metadata": {
        "id": "mUmp2puEUJW2"
      },
      "source": [
        "\n",
        "3. [6 Points] Plot the cost vs the number of epochs. what is the best learning rate you chose and why ?"
      ]
    },
    {
      "cell_type": "code",
      "metadata": {
        "id": "jR2muxtQUJW3",
        "outputId": "193075c2-3ee8-44fc-e3e4-1cd8b4dfe7ad"
      },
      "source": [
        "# Write your code here\n",
        "for (e, c) in zip(range(epochs), cost):\n",
        "    plt.scatter(e,c, color='b')\n",
        "    plt.plot(e, c, \"r\")"
      ],
      "execution_count": null,
      "outputs": [
        {
          "data": {
            "image/png": "[encoded data removed]",
            "text/plain": [
              "<Figure size 432x288 with 1 Axes>"
            ]
          },
          "metadata": {
            "needs_background": "light"
          },
          "output_type": "display_data"
        }
      ]
    },
    {
      "cell_type": "markdown",
      "metadata": {
        "id": "bE3hjgezUJW3"
      },
      "source": [
        "### Part 1, Q5 -  [30 pts]\n",
        "At this point, you have the optimal theta."
      ]
    },
    {
      "cell_type": "markdown",
      "metadata": {
        "id": "DgzxTEMAUJW3"
      },
      "source": [
        "1. [8 Points] Implement the predict_proba function."
      ]
    },
    {
      "cell_type": "code",
      "metadata": {
        "id": "4mF6ipo_UJW3"
      },
      "source": [
        "def predict_proba(x, theta):\n",
        "    # you need to know the probability of a certain test sample falling in a certain class.\n",
        "    # For this you need a function which will give you the probability.\n",
        "    # This function should return a probability\n",
        "    \n",
        "    # Start your code from here\n",
        "    prob = sigmoid(x.dot(theta))\n",
        "    return prob[0]"
      ],
      "execution_count": null,
      "outputs": []
    },
    {
      "cell_type": "markdown",
      "metadata": {
        "id": "b8lirIJFUJW3"
      },
      "source": [
        "2. [6 Points] Suppose that the petal length is 2.0 and petal width is 0.3. Using the predict_proba function, find the probability of this sample being a Setosa."
      ]
    },
    {
      "cell_type": "code",
      "metadata": {
        "id": "qbHc6K5IUJW4",
        "outputId": "dca39723-a79a-4447-d9b7-a09be52c5220"
      },
      "source": [
        "# Write your code here\n",
        "dataInit = np.array([2.0, 0.3, 1.0])\n",
        "prob = predict_proba(dataInit, theta)\n",
        "\n",
        "print(\"Probability to be a setosa:\", 1-prob)"
      ],
      "execution_count": null,
      "outputs": [
        {
          "name": "stdout",
          "output_type": "stream",
          "text": [
            "Probability to be a setosa: 0.9645272328756719\n"
          ]
        }
      ]
    },
    {
      "cell_type": "markdown",
      "metadata": {
        "id": "TKw3a03_UJW4"
      },
      "source": [
        "3. [16 Points] Plot the decision boundary with respect to the data. The plot should include PetalLengthCm in the X-axis and PetalWidthCm in the Y-axis. Additionally, assign '+' for Setosa points and 'o' for versicolor points. The decision boundary should separate the classes using the optimal theta found in Part 1 Q3."
      ]
    },
    {
      "cell_type": "code",
      "metadata": {
        "id": "tsveqk4qUJW4"
      },
      "source": [
        "# write you plotting code here ...\n",
        "# Note: this function may need parameters\n",
        "def plotData():\n",
        "    for (a, b, s) in zip(data.values[:,1], data.values[:,2], data.values[:,3]):\n",
        "        if s == 0:\n",
        "            plt.scatter(a, b, color='b', marker=\"+\")\n",
        "        if s == 1:\n",
        "            plt.scatter(a, b, color='b', marker=\"o\")"
      ],
      "execution_count": null,
      "outputs": []
    },
    {
      "cell_type": "code",
      "metadata": {
        "id": "vc-1vxdjUJW4"
      },
      "source": [
        "def plotDecisionBoundary(x, theta):\n",
        "    # x : the feature vector\n",
        "    # theta : weight vector \n",
        "    \n",
        "    # find min,max x values and solve for y = 0 at those positions\n",
        "    boundary_xs = np.array([np.min(x[:,1]), np.max(x[:,1])])\n",
        "    boundary_ys = -1 * (-.5 + theta[0] + theta[1]*boundary_xs) / theta[2]\n",
        "    \n",
        "    # plot points\n",
        "    plt.plot(boundary_xs, boundary_ys, 'b-', label='Decision Boundary')"
      ],
      "execution_count": null,
      "outputs": []
    },
    {
      "cell_type": "code",
      "metadata": {
        "id": "3Fc0NzesUJW4",
        "outputId": "00496111-0a1c-4ee2-8343-f9561b35a725"
      },
      "source": [
        "plotData() # Note: this function may need parameters\n",
        "#print(x)\n",
        "plotDecisionBoundary(x, theta)"
      ],
      "execution_count": null,
      "outputs": [
        {
          "data": {
            "image/png": "[encoded data removed]",
            "text/plain": [
              "<Figure size 432x288 with 1 Axes>"
            ]
          },
          "metadata": {
            "needs_background": "light"
          },
          "output_type": "display_data"
        }
      ]
    },
    {
      "cell_type": "markdown",
      "metadata": {
        "id": "d-B94bvUUJW5"
      },
      "source": [
        "# Assignment 3 - Part 2 (Enhanced Logistic regression)\n",
        "# Required for Graduate Students, extra credit for Undergraduates\n",
        "\n",
        "Import and examine the dataset ex2data2.txt. There are two continuous independent variables in the data - “Test 1” and “Test 2”. Our target variable is binary and labeled 0(did not passed the test) or 1(passed the test).\n",
        "\n",
        "In this part of the Assignment, you will build a logistic regression model to predict whether a sample passed the test or not (a model that estimates the probability of being passed or not based on test 1 and test 2)."
      ]
    },
    {
      "cell_type": "markdown",
      "metadata": {
        "id": "ZeCehLOFUJW5"
      },
      "source": [
        "### Part 2, Q1 -  [15 pts]\n",
        "\n",
        "1. [5 Points]  Load the data and visualize it. (You can follow the steps from part1, Q1)\n",
        "\n",
        "For visualizing, test 1 will be in the X-axis, test 2 will be on the Y-axis. Assign '+' for Setosa points and 'o' for versicolor points.for Setosa, and circle for versicolor."
      ]
    },
    {
      "cell_type": "code",
      "metadata": {
        "id": "l7jHgxTGUJW5"
      },
      "source": [
        "path = os.getcwd() + '/data/ex2data2.txt'"
      ],
      "execution_count": null,
      "outputs": []
    },
    {
      "cell_type": "code",
      "metadata": {
        "id": "JkpgJz3pUJW5"
      },
      "source": [
        "# write you plotting code here ...\n",
        "# Note: this function may need parameters\n",
        "def plotData():\n",
        "\n",
        "plotData()"
      ],
      "execution_count": null,
      "outputs": []
    },
    {
      "cell_type": "markdown",
      "metadata": {
        "id": "3QNex_k5UJW6"
      },
      "source": [
        "\n",
        "Before going further, you will be implementing Ridge regularized gradient descent with its corresponding regularized cost function, which will be needed at the end of the assignment.\n",
        "    \n",
        "\n",
        "2. [5 Points] Implement Ridge Regularized Logistic Regression cost function named calcLogRegressionCostR following the given equation.\n",
        "The equation is ![](https://github.com/Eyu-148/CS254ML-HW/blob/main/images/G2.png?raw=1)"
      ]
    },
    {
      "cell_type": "code",
      "metadata": {
        "id": "TccNcJJWUJW6"
      },
      "source": [
        "def calcLogRegressionCostR(x, y, theta, alpha=0):\n",
        "    # x : feature vector\n",
        "    # y : target vector/ output vector\n",
        "    # theta : weight vector\n",
        "    # alpha : regularization parameter\n",
        "\n",
        "    # add code here\n"
      ],
      "execution_count": null,
      "outputs": []
    },
    {
      "cell_type": "markdown",
      "metadata": {
        "id": "gskyplHSUJW6"
      },
      "source": [
        "3. [5 Points] Implement logRegressionGradientDescentR . This should be ridge regularized. The equation is \n",
        "![](https://github.com/Eyu-148/CS254ML-HW/blob/main/images/G3.png?raw=1)"
      ]
    },
    {
      "cell_type": "code",
      "metadata": {
        "id": "sQZ83iFiUJW6"
      },
      "source": [
        "def logRegressionGradientDescentR(x, y, thetaInit, eta, alpha, epochs):\n",
        "    # X : feature vector\n",
        "    # Y : target vector/ output vector\n",
        "    # theta : weight vector \n",
        "    # eta : learning rate\n",
        "    # alpha : regulirzation rate\n",
        "    # epochs : steps you want to take.\n",
        "    \n",
        "    m, d = x.shape\n",
        "    theta = thetaInit.copy()\n",
        "    \n",
        "    losses = [calcLogRegressionCostR(x, y, theta)]\n",
        "    for i in range(epochs):\n",
        "        \n",
        "        # Add code here (Gradient descent with regularization)\n",
        "        \n",
        "        theta -= eta * gradient\n",
        "        losses.append(calcLogRegressionCostR(x, y, theta))\n",
        "\n",
        "    return theta, losses   "
      ],
      "execution_count": null,
      "outputs": []
    },
    {
      "cell_type": "code",
      "metadata": {
        "id": "t5NdtSdbUJW6"
      },
      "source": [
        "# This part is given for the testing purpose    \n",
        "    \n",
        "initial_theta = np.zeros((x.shape[1], 1))\n",
        "eta = \n",
        "alpha = \n",
        "epochs =\n",
        "\n",
        "theta, cost = logRegressionGradientDescentR(x, y, initial_theta, eta, alpha, epochs)\n",
        "print(calcLogRegressionCostR(x, y, initial_theta, 0.1))\n",
        "print(theta)"
      ],
      "execution_count": null,
      "outputs": []
    },
    {
      "cell_type": "markdown",
      "metadata": {
        "id": "9P14fv_vUJW6"
      },
      "source": [
        "### Part 2, Q2 -  [20 pts]\n",
        "As you may have noticed in Part 2, Q1 plotting, the data are not linearly separable. When data are not linearly separable, one way to fit the data better is to create more features from each data point.Mapping data to polynomial terms is one of the simplest way.  \n",
        "\n",
        "1. [5 Points] Map the features into all polynomial terms of x1 and x2 up to the six power. Use PolynomialFeatures from scikit learn.\n",
        "\n",
        "![polyn6.png](attachment:polyn6.png)\n"
      ]
    },
    {
      "cell_type": "code",
      "metadata": {
        "id": "F9AO9MvAUJW7"
      },
      "source": [
        "# Write your code here\n"
      ],
      "execution_count": null,
      "outputs": []
    },
    {
      "cell_type": "markdown",
      "metadata": {
        "id": "jOkAqjtgUJW7"
      },
      "source": [
        "2. [2 Points] Report optimal final θ on the polynominal features using logRegressionGradientDescent.\n",
        "\n",
        "Note: There should be 28 features as your are taking power of 6."
      ]
    },
    {
      "cell_type": "code",
      "metadata": {
        "scrolled": true,
        "id": "-JeblHFiUJW7"
      },
      "source": [
        "theta_scale = np.zeros((x_scale.shape[1],1))\n",
        "thetaOpt, cost = logRegressionGradientDescentR(x_scale, y, theta_scale, 0.01, 0, 250)\n",
        "print(thetaOpt)"
      ],
      "execution_count": null,
      "outputs": []
    },
    {
      "cell_type": "markdown",
      "metadata": {
        "id": "4LrF7OYmUJW7"
      },
      "source": [
        "3. [3 Points] Plot the cost with the number of epochs."
      ]
    },
    {
      "cell_type": "code",
      "metadata": {
        "id": "0WvjdsJiUJW7"
      },
      "source": [
        "# Write your code here\n"
      ],
      "execution_count": null,
      "outputs": []
    },
    {
      "cell_type": "markdown",
      "metadata": {
        "id": "nxcU5DZSUJW7"
      },
      "source": [
        "4. [5 Points] Now, try to plot the decision boundary of the polynominal features.Use  logRegressionGradientDescentR for plotting the decision boundary."
      ]
    },
    {
      "cell_type": "code",
      "metadata": {
        "id": "Lzy6QXIQUJW8"
      },
      "source": [
        "def plotBoundary(theta, x, y, poly, alpha=0):\n",
        "\n",
        "    # find optimal thetas\n",
        "    theta, cost = logRegressionGradientDescentR(x, y, theta, 0.2, alpha, 10_000)\n",
        "    \n",
        "    # create search space and placeholder\n",
        "    xvals = np.linspace(-1, 1.5, 50)\n",
        "    yvals = np.linspace(-1, 1.5, 50)\n",
        "    zvals = np.zeros((len(xvals), len(yvals)))\n",
        "    \n",
        "    # compute zval for all combinations of xvals/yvals\n",
        "    for i in range(len(xvals)):\n",
        "        for j in range(len(yvals)):\n",
        "            featuresij = poly.fit_transform(np.array([[xvals[i], yvals[j]]]))\n",
        "            zvals[j][i] = np.dot(theta.T, featuresij.T)\n",
        "    \n",
        "    \n",
        "    contour = plt.contour(xvals, yvals, zvals, [0])\n",
        "    plt.title(\"Decision Boundary with Alpha = \" + str(alpha))"
      ],
      "execution_count": null,
      "outputs": []
    },
    {
      "cell_type": "code",
      "metadata": {
        "id": "_qF8P2QvUJW8"
      },
      "source": [
        "plt.figure(figsize=(6,6))\n",
        "plotData()\n",
        "plotBoundary(theta_scale, x_scale, y, poly)"
      ],
      "execution_count": null,
      "outputs": []
    },
    {
      "cell_type": "markdown",
      "metadata": {
        "id": "sSPRp6EAUJW8"
      },
      "source": [
        "  5. [5 Points] What can you comment about the decision boundary from the previous question? Is the decision boundary behaving as expected?"
      ]
    },
    {
      "cell_type": "code",
      "metadata": {
        "id": "BS26M6W5UJW8"
      },
      "source": [
        "# Write your answer here\n"
      ],
      "execution_count": null,
      "outputs": []
    },
    {
      "cell_type": "markdown",
      "metadata": {
        "id": "ZHAJvQO1UJW8"
      },
      "source": [
        "### Part 2, Q3 -  [15 pts]\n",
        "\n",
        "Regularization is an important part of fitting data more accurately. In the next part try four different regularization values and plot the decision boundary for each. The values might be a mixture of small, medium, and large values.\n",
        "\n",
        "Comment on the decision boundary for different regularization values? How is regularization effecting our model? Does this reduce overfitting?\n",
        "\n",
        "Note: Use regularized version of logRegressionGradientDescentR and calcLogRegressionCostR for decision boundary plotting."
      ]
    },
    {
      "cell_type": "code",
      "metadata": {
        "id": "Pi1i3fv0UJW8"
      },
      "source": [
        "reg_vals = [ # add reg values ]\n",
        "plt.figure(figsize=(22,15))\n",
        "\n",
        "for i in range(len(reg_vals)):\n",
        "    plt.subplot(221 + i)\n",
        "    plotData()\n",
        "    plotBoundary(theta_scale, x_scale, y, poly, alpha=reg_vals[i])\n"
      ],
      "execution_count": null,
      "outputs": []
    },
    {
      "cell_type": "code",
      "metadata": {
        "id": "TEE5Uma3UJW8"
      },
      "source": [
        ""
      ],
      "execution_count": null,
      "outputs": []
    }
  ]
}