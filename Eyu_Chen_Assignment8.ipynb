{
  "nbformat": 4,
  "nbformat_minor": 0,
  "metadata": {
    "kernelspec": {
      "display_name": "Python 3",
      "language": "python",
      "name": "python3"
    },
    "language_info": {
      "codemirror_mode": {
        "name": "ipython",
        "version": 3
      },
      "file_extension": ".py",
      "mimetype": "text/x-python",
      "name": "python",
      "nbconvert_exporter": "python",
      "pygments_lexer": "ipython3",
      "version": "3.7.7"
    },
    "colab": {
      "name": "Eyu_Chen_Assignment8.ipynb",
      "provenance": [],
      "collapsed_sections": [],
      "toc_visible": true,
      "include_colab_link": true
    }
  },
  "cells": [
    {
      "cell_type": "markdown",
      "metadata": {
        "id": "view-in-github",
        "colab_type": "text"
      },
      "source": [
        "<a href=\"https://colab.research.google.com/github/Eyu-148/CS254ML-HW/blob/main/Eyu_Chen_Assignment8.ipynb\" target=\"_parent\"><img src=\"https://colab.research.google.com/assets/colab-badge.svg\" alt=\"Open In Colab\"/></a>"
      ]
    },
    {
      "cell_type": "markdown",
      "metadata": {
        "id": "TJDMcGhDRzOv"
      },
      "source": [
        "### Getting started: Installing Numpy, Keras and TensorFlow"
      ]
    },
    {
      "cell_type": "markdown",
      "metadata": {
        "id": "-_7-CSRRRzO4"
      },
      "source": [
        "In this assignment you will learn how to use a third party open-source toolkit to create and train a Neural Network. In this assignment you will use Keras. Keras is a high-level Python API that allows you to easily construct, train, and apply neural networks. However, Keras is not a neural network library itself and depends on one of several neural network backends/packages. We will use the Tensorflow backend. TensorFlow is an open-source library for neural networks (and other mathematical models based on sequences of matrix and tensor computations), originally developed by Google. Also, Keras uses numpy data structures. \n",
        "\n",
        "In the recent tensorflow version 2.0, Google merged Keras in tensorflow. So, if you are using tensorflow version 2.0 or higher there might be a slightly change in the syntax for importing the functions or modules. One good resource is to go to the tensorflow documentation and look for the syntax. The link is https://www.tensorflow.org/guide/effective_tf2. \n",
        "\n",
        "Installing Numpy, TensorFlow and Keras: \n",
        "\n",
        "\n",
        "### OR Using Anaconda (Easy and Prefered)\n",
        "\n",
        "- $ conda install tensorflow \n",
        "\n",
        "### OR Using PIP \n",
        "\n",
        "for this, I assume you are very familir with PIP. On most systems, the following commands should work:\n",
        "\n",
        "- $ pip install numpy matplotlib.\n",
        "\n",
        "- $ pip install tensorflow\n",
        "\n",
        "\n",
        "<b> Note:It is highly recommended that you use tensorflow version 2.0 or higher as this assignment will be following 2.0 version. </b> \n",
        "\n",
        "\n",
        "Note that this will likely install the CPU version of TensorFlow that does not use the GPU to speed up neural network training. For this assignment, training on the CPU will be sufficient (and recommended), but if your computer has a GPU (or you want to try running the assignment in the cloud), follow the installation instructions on the tensorflow page. \n",
        "\n",
        "If you get stuck during the installation, you can find installation instructions for each package here: \n",
        "\n",
        "- Tensorflow: https://www.tensorflow.org/install/ \n",
        "- Keras: https://keras.io/#installation \n",
        "\n",
        "<b> Note: You don't need to install keras separately if you are using tensorflow version 2.0 or better as it will be in tensorflow. <b>\n",
        "\n",
        " <span style=\"color:red\"><b>It is highly recommend that </b> you read and run this tutorial before you start this assignment. </b></span>\n",
        "- https://www.tensorflow.org/tutorials/keras/classification\n"
      ]
    },
    {
      "cell_type": "code",
      "metadata": {
        "id": "iN5KSCCqRzO8",
        "colab": {
          "base_uri": "https://localhost:8080/"
        },
        "outputId": "ba0313b9-4427-474a-96a7-6b3799fa3e26"
      },
      "source": [
        "# import needed libraries\n",
        "from __future__ import absolute_import, division, print_function, unicode_literals\n",
        "# import libraries\n",
        "%matplotlib inline\n",
        "import numpy as np\n",
        "import pandas as pd\n",
        "import matplotlib.pyplot as plt\n",
        "\n",
        "# TensorFlow and tf.keras\n",
        "import tensorflow as tf\n",
        "from tensorflow import keras\n",
        "\n",
        "from tensorflow.keras.utils import to_categorical\n",
        "from tensorflow.keras.datasets import cifar10\n",
        "from tensorflow.keras.models import Sequential \n",
        "from tensorflow.keras.layers import Dense, Flatten\n",
        "from tensorflow.keras import optimizers\n",
        "# Helper libraries\n",
        "\n",
        "print(tf.__version__)"
      ],
      "execution_count": 1,
      "outputs": [
        {
          "output_type": "stream",
          "name": "stdout",
          "text": [
            "2.7.0\n"
          ]
        }
      ]
    },
    {
      "cell_type": "markdown",
      "metadata": {
        "id": "yo4aUo0VRzPA"
      },
      "source": [
        "Make sure that your tensorflow version is <b>larger</b> than 2.0.0"
      ]
    },
    {
      "cell_type": "markdown",
      "metadata": {
        "id": "sXvC4rj5RzPB"
      },
      "source": [
        "### Introduction\n",
        "In this assignment you will use the Keras Neural Network API to build neural networks for <b>image classification</b>. \n",
        "\n",
        "\n",
        "### Loading CIFAR-10 Dataset\n",
        "\n",
        "We will work on the CIFAR-10 image data set described here: https://www.cs.toronto.edu/~kriz/cifar.html.\n",
        "\n",
        "The data set contains 60,000 images labeled with 10 different categories:\n",
        "\n",
        "Numeric ID\tCategory Name\n",
        "- 0\tairplane\n",
        "- 1\tautomobile\n",
        "- 2\tbird\n",
        "- 3\tcat\n",
        "- 4\tdeer\n",
        "- 5\tdog\n",
        "- 6\tfrog\n",
        "- 7\thorse\n",
        "- 8\tship\n",
        "- 9\ttruck\n",
        "\n",
        "Each image is 32x32 pixels and there are three color channels (red, green blue). Each image can therefore be represented as three 32x32 matrices or one 32x32x3 cube."
      ]
    },
    {
      "cell_type": "code",
      "metadata": {
        "id": "Y7pdu1JQRzPC",
        "colab": {
          "base_uri": "https://localhost:8080/"
        },
        "outputId": "9f3868d7-de53-474c-8918-b06f27b61791"
      },
      "source": [
        "# load the data\n",
        "(xtrain, ytrain), (xtest, ytest) = cifar10.load_data()"
      ],
      "execution_count": 2,
      "outputs": [
        {
          "output_type": "stream",
          "name": "stdout",
          "text": [
            "Downloading data from https://www.cs.toronto.edu/~kriz/cifar-10-python.tar.gz\n",
            "170500096/170498071 [==============================] - 3s 0us/step\n",
            "170508288/170498071 [==============================] - 3s 0us/step\n"
          ]
        }
      ]
    },
    {
      "cell_type": "code",
      "metadata": {
        "id": "V6muG2HyRzPE",
        "colab": {
          "base_uri": "https://localhost:8080/"
        },
        "outputId": "8d148fb0-0035-46ac-da21-e81d8bc31868"
      },
      "source": [
        "# print data dimensions, note the 3 that indicates three channels (red, green, blue)\n",
        "xtrain.shape, xtest.shape"
      ],
      "execution_count": 3,
      "outputs": [
        {
          "output_type": "execute_result",
          "data": {
            "text/plain": [
              "((50000, 32, 32, 3), (10000, 32, 32, 3))"
            ]
          },
          "metadata": {},
          "execution_count": 3
        }
      ]
    },
    {
      "cell_type": "markdown",
      "metadata": {
        "id": "NMQsqLoGRzPF"
      },
      "source": [
        "### Q1  --  [10 pts]\n",
        "Split the training data into training and validation. Resulting in training, testing and validation (40000 for training,10000 for testing and 10000 for validation). Thus you have xtrain, ytrain, xvalid, yvalid, xtest, and ytest as numpy n-dimension arrays contains the training validation and testing data. \n",
        "\n",
        "Hint: \n",
        "- You already have test/train split, you only need to spli training into train and validation.\n",
        "- Use train_test_split sklearn function to split the training data into training and validation.\n",
        "\n",
        "The input training data (xtrain) is a 4-dimensional array containing 40000 images, each of them a 32x32x3 tensor. Numpy arrays can be indexed like nested Python lists, so xtrain[0] will give you the first 32x32x3 image.\n",
        "\n",
        "The input label (ytrain) is a vector containing the numeric class for each image (see table above for what the numeric IDs mean). For example, if xtrain[0] is an image of a frog and therefore ytrain[0] contains the value 6. "
      ]
    },
    {
      "cell_type": "code",
      "metadata": {
        "id": "8YLQLwO4RzPH"
      },
      "source": [
        "# !NOTE! Repeatly run this section will update xtrain and ytrain to be smaller\n",
        "from sklearn.model_selection import train_test_split\n",
        "\n",
        "# This will normalize your data. For images we only need to normalize the data by dividing it\n",
        "# over 255 thus the pixel normalized intensity range from 0-1.0 \n",
        "xtrain = xtrain/255\n",
        "xtest = xtest/255\n",
        "xtrainForSplit = xtrain\n",
        "ytrainForSplit = ytrain\n",
        "\n",
        "xtrain, xval, ytrain, yval= train_test_split(xtrainForSplit, ytrainForSplit, train_size=0.8, test_size=0.2)  "
      ],
      "execution_count": 4,
      "outputs": []
    },
    {
      "cell_type": "code",
      "metadata": {
        "id": "5kpHAlZhRzPJ",
        "colab": {
          "base_uri": "https://localhost:8080/"
        },
        "outputId": "01f7a8ac-018c-495c-8ef5-1f554ff73154"
      },
      "source": [
        "print (\"xtrain.shape is \",xtrain.shape)\n",
        "print (\"xval.shape is \",xval.shape)\n",
        "print (\"xtest.shape is \",xtest.shape)\n",
        "\n",
        "print (\"ytrain.shape is \", ytrain.shape)\n",
        "print (\"yval.shape is \", yval.shape)\n",
        "print (\"ytest.shape is \", ytest.shape)\n",
        "\n",
        "#Answers should be \n",
        "# xtrain.shape is  (40000, 32, 32, 3)\n",
        "# xval.shape is  (10000, 32, 32, 3)\n",
        "# xtest.shape is  (10000, 32, 32, 3)\n",
        "# ytrain.shape is  (40000, 1)\n",
        "# yval.shape is  (10000, 1)\n",
        "# ytest.shape is  (10000, 1)"
      ],
      "execution_count": 5,
      "outputs": [
        {
          "output_type": "stream",
          "name": "stdout",
          "text": [
            "xtrain.shape is  (40000, 32, 32, 3)\n",
            "xval.shape is  (10000, 32, 32, 3)\n",
            "xtest.shape is  (10000, 32, 32, 3)\n",
            "ytrain.shape is  (40000, 1)\n",
            "yval.shape is  (10000, 1)\n",
            "ytest.shape is  (10000, 1)\n"
          ]
        }
      ]
    },
    {
      "cell_type": "markdown",
      "metadata": {
        "id": "zdNT_5oORzPK"
      },
      "source": [
        "## Visualizing Images\n",
        "If you want to take a look at the individual images, you can do so using matplotlib "
      ]
    },
    {
      "cell_type": "code",
      "metadata": {
        "id": "f0Q4s5foRzPL",
        "colab": {
          "base_uri": "https://localhost:8080/",
          "height": 1000
        },
        "outputId": "750ab4f1-2a2b-43d6-87ba-4584fbe34ee2"
      },
      "source": [
        "for _ in range(5):\n",
        "    plt.imshow(xtrain[np.random.randint(len(xtrain))])\n",
        "    plt.show()"
      ],
      "execution_count": 6,
      "outputs": [
        {
          "output_type": "display_data",
          "data": {
            "image/png": "[encoded data removed]",
            "text/plain": [
              "<Figure size 432x288 with 1 Axes>"
            ]
          },
          "metadata": {
            "needs_background": "light"
          }
        },
        {
          "output_type": "display_data",
          "data": {
            "image/png": "[encoded data removed]",
            "text/plain": [
              "<Figure size 432x288 with 1 Axes>"
            ]
          },
          "metadata": {
            "needs_background": "light"
          }
        },
        {
          "output_type": "display_data",
          "data": {
            "image/png": "[encoded data removed]",
            "text/plain": [
              "<Figure size 432x288 with 1 Axes>"
            ]
          },
          "metadata": {
            "needs_background": "light"
          }
        },
        {
          "output_type": "display_data",
          "data": {
            "image/png": "[encoded data removed]",
            "text/plain": [
              "<Figure size 432x288 with 1 Axes>"
            ]
          },
          "metadata": {
            "needs_background": "light"
          }
        },
        {
          "output_type": "display_data",
          "data": {
            "image/png": "[encoded data removed]",
            "text/plain": [
              "<Figure size 432x288 with 1 Axes>"
            ]
          },
          "metadata": {
            "needs_background": "light"
          }
        }
      ]
    },
    {
      "cell_type": "markdown",
      "metadata": {
        "id": "6Vx7DrbaRzPM"
      },
      "source": [
        "### Q2  --  [10 pts]\n",
        "\n",
        "For calssifcaiton, representing the output as 1-hot encoding is the best way to train a fair classifer. The output layer of your neural network will contain 10 neurons corresponding to 10 classes of your dataset. The classifier will then predict the class of the neuron associated with the highest activation. We need to convert the numeric indexes for each image into a 1-hot vector of length 10, so that for class label n the n-th element is 1 and all other elements are 0. For example, if the class label is 6, we should get the 1-hot vector [0 0 0 0 0 1 0 0 0 0].\n",
        "\n",
        "The class labels for the entire training and test set should then be represented as a 40000x10 matrix, and the testing data as a 10000x10 matrix. \n",
        "\n",
        "Write the function mapto1hot(), should map ytrain, yval, ytest to ytrain_1hot, yval_1hot, ytest_1hot. Your function should convert the y arrays into 1-hot representation. You can either do this using loops (slow), using numpy fancy indexing (see numpy documentation), or by using appropriate functions in the numpy or Keras API (to_categorical, https://www.tensorflow.org/api_docs/python/tf/keras/utils/to_categorical). "
      ]
    },
    {
      "cell_type": "code",
      "metadata": {
        "id": "_gf0FT1yRzPN"
      },
      "source": [
        "def mapto1hot():\n",
        "\n",
        "  ytrain_1hot = to_categorical(ytrain, 10)\n",
        "  yval_1hot = to_categorical(yval, 10)\n",
        "  ytest_1hot = to_categorical(ytest, 10)\n",
        "    \n",
        "  return ytrain_1hot, yval_1hot, ytest_1hot"
      ],
      "execution_count": 7,
      "outputs": []
    },
    {
      "cell_type": "code",
      "metadata": {
        "id": "oVTDIFnARzPO"
      },
      "source": [
        "ytrain_1hot, yval_1hot, ytest_1hot = mapto1hot()"
      ],
      "execution_count": 8,
      "outputs": []
    },
    {
      "cell_type": "code",
      "metadata": {
        "id": "zMUycgT4RzPP",
        "colab": {
          "base_uri": "https://localhost:8080/"
        },
        "outputId": "6e5cace2-6523-4f16-9b3b-dd5b311763bb"
      },
      "source": [
        "print (xtrain.shape, ytrain_1hot.shape)\n",
        "print (xval.shape, yval_1hot.shape)\n",
        "print (xtest.shape, ytest_1hot.shape)\n",
        "\n",
        "#your answer should be \n",
        "# (40000, 32, 32, 3) (40000, 10)\n",
        "# (10000, 32, 32, 3) (10000, 10)\n",
        "# (10000, 32, 32, 3) (10000, 10)"
      ],
      "execution_count": 9,
      "outputs": [
        {
          "output_type": "stream",
          "name": "stdout",
          "text": [
            "(40000, 32, 32, 3) (40000, 10)\n",
            "(10000, 32, 32, 3) (10000, 10)\n",
            "(10000, 32, 32, 3) (10000, 10)\n"
          ]
        }
      ]
    },
    {
      "cell_type": "markdown",
      "metadata": {
        "id": "PfWopp-qRzPP"
      },
      "source": [
        "### Q3  --  [20 pts]\n",
        "\n",
        "In this task, you will implement a MLP network using keras.Sequential method with:\n",
        "\n",
        "- Batch size: 16. \n",
        "- Number of hidden layers: 1 \n",
        "- Neurons in hidden layers: 100\n",
        "- Optimizer: SGD\n",
        "- Learning Rate: 0.01\n",
        "- Epochs: 10\n",
        "- Output activation: softmax\n",
        "- All other activation(s): relu\n",
        "\n",
        "Keep all other hyperparameters at their default settings.\n",
        "\n",
        "Find the performance (accuracy) of your model on the validation set and test set after training for 10 epochs. "
      ]
    },
    {
      "cell_type": "code",
      "metadata": {
        "id": "_NOIu0BsRzPQ",
        "colab": {
          "base_uri": "https://localhost:8080/"
        },
        "outputId": "2293326b-1e54-4f73-81d0-420f73ea1b50"
      },
      "source": [
        "model = Sequential([\n",
        "    Flatten(input_shape=(32,32,3)),\n",
        "    Dense(100, activation='relu'),\n",
        "    Dense(10, activation= 'softmax')\n",
        "    \n",
        "])\n",
        "\n",
        "#refer to https://www.tensorflow.org/tutorials/keras/classification tutorial to check on how to use compile function\n",
        "opt = optimizers.SGD(learning_rate=0.01)\n",
        "model.compile(optimizer=opt, loss=\"categorical_crossentropy\", metrics=['accuracy'])\n",
        "\n",
        "# This will start the training and save each epoch output in the history list.\n",
        "history = model.fit(xtrain, ytrain_1hot, batch_size=16, epochs=10 , validation_data=(xval, yval_1hot))"
      ],
      "execution_count": 21,
      "outputs": [
        {
          "output_type": "stream",
          "name": "stdout",
          "text": [
            "Epoch 1/10\n",
            "2500/2500 [==============================] - 9s 4ms/step - loss: 1.8969 - accuracy: 0.3155 - val_loss: 1.7693 - val_accuracy: 0.3606\n",
            "Epoch 2/10\n",
            "2500/2500 [==============================] - 8s 3ms/step - loss: 1.7227 - accuracy: 0.3870 - val_loss: 1.7035 - val_accuracy: 0.3939\n",
            "Epoch 3/10\n",
            "2500/2500 [==============================] - 9s 3ms/step - loss: 1.6486 - accuracy: 0.4157 - val_loss: 1.6347 - val_accuracy: 0.4251\n",
            "Epoch 4/10\n",
            "2500/2500 [==============================] - 8s 3ms/step - loss: 1.5979 - accuracy: 0.4364 - val_loss: 1.6145 - val_accuracy: 0.4292\n",
            "Epoch 5/10\n",
            "2500/2500 [==============================] - 8s 3ms/step - loss: 1.5602 - accuracy: 0.4487 - val_loss: 1.5989 - val_accuracy: 0.4382\n",
            "Epoch 6/10\n",
            "2500/2500 [==============================] - 9s 4ms/step - loss: 1.5294 - accuracy: 0.4595 - val_loss: 1.5961 - val_accuracy: 0.4307\n",
            "Epoch 7/10\n",
            "2500/2500 [==============================] - 9s 4ms/step - loss: 1.5053 - accuracy: 0.4691 - val_loss: 1.5451 - val_accuracy: 0.4533\n",
            "Epoch 8/10\n",
            "2500/2500 [==============================] - 8s 3ms/step - loss: 1.4820 - accuracy: 0.4740 - val_loss: 1.5415 - val_accuracy: 0.4615\n",
            "Epoch 9/10\n",
            "2500/2500 [==============================] - 8s 3ms/step - loss: 1.4609 - accuracy: 0.4839 - val_loss: 1.5391 - val_accuracy: 0.4521\n",
            "Epoch 10/10\n",
            "2500/2500 [==============================] - 9s 3ms/step - loss: 1.4450 - accuracy: 0.4868 - val_loss: 1.5093 - val_accuracy: 0.4705\n"
          ]
        }
      ]
    },
    {
      "cell_type": "markdown",
      "metadata": {
        "id": "AcqZk9aGRzPR"
      },
      "source": [
        "### Q4  --  [25 pts]\n",
        "\n",
        "How many parameters are in the model implemented in Q3, compare your calculations with model.summary() function? Show your calculations in details."
      ]
    },
    {
      "cell_type": "code",
      "metadata": {
        "id": "wzapTAIhRzPR",
        "colab": {
          "base_uri": "https://localhost:8080/"
        },
        "outputId": "059081ac-fe73-4bbd-8bd9-4450b1313541"
      },
      "source": [
        "model.summary()"
      ],
      "execution_count": 19,
      "outputs": [
        {
          "output_type": "stream",
          "name": "stdout",
          "text": [
            "Model: \"sequential_2\"\n",
            "_________________________________________________________________\n",
            " Layer (type)                Output Shape              Param #   \n",
            "=================================================================\n",
            " flatten_2 (Flatten)         (None, 3072)              0         \n",
            "                                                                 \n",
            " dense_4 (Dense)             (None, 100)               307300    \n",
            "                                                                 \n",
            " dense_5 (Dense)             (None, 10)                1010      \n",
            "                                                                 \n",
            "=================================================================\n",
            "Total params: 308,310\n",
            "Trainable params: 308,310\n",
            "Non-trainable params: 0\n",
            "_________________________________________________________________\n"
          ]
        }
      ]
    },
    {
      "cell_type": "code",
      "metadata": {
        "id": "B9v0vL7HRzPS"
      },
      "source": [
        "# Include the bias for each layer\n",
        "#number of paramters = (3072 + 1) * 100 + (100 + 1) * 10 = 308310"
      ],
      "execution_count": null,
      "outputs": []
    },
    {
      "cell_type": "markdown",
      "metadata": {
        "id": "S7odchNNRzPT"
      },
      "source": [
        "### Q5  --  [15 pts] \n",
        "\n",
        "Use the code below to plot the perfomance at each epoch. At which epoch does your model starts to overfit? Do you think early stopping would be a good solution to avoid overfitting in this case? Give an explaination."
      ]
    },
    {
      "cell_type": "code",
      "metadata": {
        "id": "CvoeQFSpRzPT",
        "colab": {
          "base_uri": "https://localhost:8080/",
          "height": 282
        },
        "outputId": "ab14d49c-4849-4157-c9f5-659213c64e53"
      },
      "source": [
        "plt.plot(history.history['accuracy'], label=\"train_acc\")\n",
        "plt.plot(history.history['val_accuracy'], label=\"val_acc\")\n",
        "plt.legend()\n",
        "plt.show()"
      ],
      "execution_count": 23,
      "outputs": [
        {
          "output_type": "display_data",
          "data": {
            "image/png": "[encoded data removed]",
            "text/plain": [
              "<Figure size 432x288 with 1 Axes>"
            ]
          },
          "metadata": {
            "needs_background": "light"
          }
        }
      ]
    },
    {
      "cell_type": "code",
      "metadata": {
        "id": "DmMNfbFmRzPU"
      },
      "source": [
        "# After the epoch#5, the model starts to overfit because the gap gets bigger.\n",
        "# Early stopping could be a choice since overfitting can be handle by adding appropriate regularization. \n",
        "# However, the early stopping might not be a good choice because the big gap only occurs in a range of epochs\n",
        "# early stopping may also raise low accuracy. "
      ],
      "execution_count": null,
      "outputs": []
    },
    {
      "cell_type": "markdown",
      "metadata": {
        "nbpresent": {
          "id": "342e80f3-8091-415c-b362-61cd2365ff7d"
        },
        "id": "-wfh-cJVRzPV"
      },
      "source": [
        "### Q6  --  [20 pts] \n",
        "\n",
        "In this question, you will evaluate the performance of your network for 2 varying values of hyperparameters. Keeping the rest of the values constant (and equal to the default values), adjust the values of parameters as described below. Find the performance (accuracy) of your model on the validation set and plot a trend graph for each of the following.\n",
        "\n",
        "Experiment 1:\n",
        "- Batch size: 32\n",
        "- Number of hidden layers: 2\n",
        "- SGD optimizer, Learning Rate: 0.01\n",
        "- Use 10 epochs for all the experiments\n",
        "- final activation: softmax\n",
        "- all other activations: relu\n",
        "\n",
        "\n",
        "\n",
        "Experiment 2:\n",
        "- Batch size: 64\n",
        "- Number of hidden layers: 4\n",
        "- SGD optimizer, Learning Rate: 0.01\n",
        "- Use 10 epochs for all the experiments\n",
        "- final activation: softmax\n",
        "- all other activations: relu\n",
        "\n",
        "<b>Compare the results from both settings and comment with details. Is one of them is better than the other. Write your explanation if it is the case.</b>"
      ]
    },
    {
      "cell_type": "code",
      "metadata": {
        "id": "p7xLXNBrRzPV",
        "colab": {
          "base_uri": "https://localhost:8080/"
        },
        "outputId": "1dd09a6d-3c21-4ecc-e648-17096a2a5521"
      },
      "source": [
        "# Experiment 1\n",
        "model = Sequential([\n",
        "    Flatten(),\n",
        "    Dense(100, activation='relu'),\n",
        "    Dense(100, activation='relu'),\n",
        "    Dense(10, activation= 'softmax')\n",
        "    \n",
        "])\n",
        "opt = optimizers.SGD(learning_rate=0.01)\n",
        "model.compile(opt, loss=\"categorical_crossentropy\", metrics=['accuracy'])\n",
        "history = model.fit(xtrain, ytrain_1hot, batch_size=32, epochs=10 , validation_data=(xval, yval_1hot))"
      ],
      "execution_count": 24,
      "outputs": [
        {
          "output_type": "stream",
          "name": "stdout",
          "text": [
            "Epoch 1/10\n",
            "1250/1250 [==============================] - 8s 6ms/step - loss: 1.9412 - accuracy: 0.3038 - val_loss: 1.8283 - val_accuracy: 0.3460\n",
            "Epoch 2/10\n",
            "1250/1250 [==============================] - 7s 6ms/step - loss: 1.7544 - accuracy: 0.3760 - val_loss: 1.7231 - val_accuracy: 0.3910\n",
            "Epoch 3/10\n",
            "1250/1250 [==============================] - 8s 6ms/step - loss: 1.6704 - accuracy: 0.4079 - val_loss: 1.6716 - val_accuracy: 0.4143\n",
            "Epoch 4/10\n",
            "1250/1250 [==============================] - 7s 5ms/step - loss: 1.6157 - accuracy: 0.4259 - val_loss: 1.6691 - val_accuracy: 0.4006\n",
            "Epoch 5/10\n",
            "1250/1250 [==============================] - 6s 5ms/step - loss: 1.5749 - accuracy: 0.4437 - val_loss: 1.6035 - val_accuracy: 0.4342\n",
            "Epoch 6/10\n",
            "1250/1250 [==============================] - 6s 5ms/step - loss: 1.5405 - accuracy: 0.4559 - val_loss: 1.5606 - val_accuracy: 0.4481\n",
            "Epoch 7/10\n",
            "1250/1250 [==============================] - 6s 5ms/step - loss: 1.5100 - accuracy: 0.4663 - val_loss: 1.5517 - val_accuracy: 0.4486\n",
            "Epoch 8/10\n",
            "1250/1250 [==============================] - 6s 5ms/step - loss: 1.4877 - accuracy: 0.4727 - val_loss: 1.5488 - val_accuracy: 0.4479\n",
            "Epoch 9/10\n",
            "1250/1250 [==============================] - 6s 4ms/step - loss: 1.4652 - accuracy: 0.4798 - val_loss: 1.5290 - val_accuracy: 0.4567\n",
            "Epoch 10/10\n",
            "1250/1250 [==============================] - 6s 4ms/step - loss: 1.4417 - accuracy: 0.4879 - val_loss: 1.5218 - val_accuracy: 0.4625\n"
          ]
        }
      ]
    },
    {
      "cell_type": "code",
      "metadata": {
        "id": "ZkLd65J3RzPW",
        "colab": {
          "base_uri": "https://localhost:8080/",
          "height": 282
        },
        "outputId": "293a73f9-fcad-4bfe-ec1f-352ce9c37365"
      },
      "source": [
        "plt.plot(history.history['accuracy'], label=\"train_acc\")\n",
        "plt.plot(history.history['val_accuracy'], label=\"val_acc\")\n",
        "plt.legend()\n",
        "plt.show()"
      ],
      "execution_count": 28,
      "outputs": [
        {
          "output_type": "display_data",
          "data": {
            "image/png": "[encoded data removed]",
            "text/plain": [
              "<Figure size 432x288 with 1 Axes>"
            ]
          },
          "metadata": {
            "needs_background": "light"
          }
        }
      ]
    },
    {
      "cell_type": "code",
      "metadata": {
        "id": "3GJB8LqwRzPW",
        "colab": {
          "base_uri": "https://localhost:8080/"
        },
        "outputId": "18c21315-544a-4424-8189-15b8f81634c0"
      },
      "source": [
        "model.evaluate(xtest, ytest_1hot)"
      ],
      "execution_count": 29,
      "outputs": [
        {
          "output_type": "stream",
          "name": "stdout",
          "text": [
            "313/313 [==============================] - 1s 2ms/step - loss: 1.4974 - accuracy: 0.4722\n"
          ]
        },
        {
          "output_type": "execute_result",
          "data": {
            "text/plain": [
              "[1.4973852634429932, 0.4722000062465668]"
            ]
          },
          "metadata": {},
          "execution_count": 29
        }
      ]
    },
    {
      "cell_type": "code",
      "metadata": {
        "id": "xqY1m1H7RzPX",
        "colab": {
          "base_uri": "https://localhost:8080/"
        },
        "outputId": "bfdcdfa6-b315-4837-a0af-65ce90ba3c3b"
      },
      "source": [
        "# Experiment 2\n",
        "model = Sequential([\n",
        "    Flatten(),\n",
        "    Dense(100, activation='relu'),\n",
        "    Dense(100, activation='relu'),\n",
        "    Dense(100, activation='relu'),\n",
        "    Dense(100, activation='relu'),\n",
        "    Dense(10, activation= 'softmax')\n",
        "    \n",
        "])\n",
        "opt = optimizers.SGD(learning_rate=0.01)\n",
        "model.compile(opt, loss=\"categorical_crossentropy\", metrics=['accuracy'])\n",
        "history = model.fit(xtrain, ytrain_1hot, batch_size=64, epochs=10 , validation_data=(xval, yval_1hot))"
      ],
      "execution_count": 30,
      "outputs": [
        {
          "output_type": "stream",
          "name": "stdout",
          "text": [
            "Epoch 1/10\n",
            "625/625 [==============================] - 5s 8ms/step - loss: 2.0612 - accuracy: 0.2527 - val_loss: 1.9496 - val_accuracy: 0.2921\n",
            "Epoch 2/10\n",
            "625/625 [==============================] - 5s 7ms/step - loss: 1.8590 - accuracy: 0.3330 - val_loss: 1.8564 - val_accuracy: 0.3319\n",
            "Epoch 3/10\n",
            "625/625 [==============================] - 4s 7ms/step - loss: 1.7661 - accuracy: 0.3648 - val_loss: 1.7700 - val_accuracy: 0.3592\n",
            "Epoch 4/10\n",
            "625/625 [==============================] - 4s 7ms/step - loss: 1.7033 - accuracy: 0.3913 - val_loss: 1.7419 - val_accuracy: 0.3765\n",
            "Epoch 5/10\n",
            "625/625 [==============================] - 5s 7ms/step - loss: 1.6564 - accuracy: 0.4062 - val_loss: 1.6854 - val_accuracy: 0.3932\n",
            "Epoch 6/10\n",
            "625/625 [==============================] - 4s 7ms/step - loss: 1.6237 - accuracy: 0.4225 - val_loss: 1.6348 - val_accuracy: 0.4232\n",
            "Epoch 7/10\n",
            "625/625 [==============================] - 4s 7ms/step - loss: 1.5886 - accuracy: 0.4326 - val_loss: 1.5987 - val_accuracy: 0.4291\n",
            "Epoch 8/10\n",
            "625/625 [==============================] - 4s 7ms/step - loss: 1.5636 - accuracy: 0.4434 - val_loss: 1.5692 - val_accuracy: 0.4409\n",
            "Epoch 9/10\n",
            "625/625 [==============================] - 4s 7ms/step - loss: 1.5348 - accuracy: 0.4539 - val_loss: 1.6048 - val_accuracy: 0.4245\n",
            "Epoch 10/10\n",
            "625/625 [==============================] - 4s 7ms/step - loss: 1.5148 - accuracy: 0.4615 - val_loss: 1.5887 - val_accuracy: 0.4339\n"
          ]
        }
      ]
    },
    {
      "cell_type": "code",
      "metadata": {
        "id": "_N6BOS6URzPX",
        "colab": {
          "base_uri": "https://localhost:8080/",
          "height": 282
        },
        "outputId": "3063a052-3b9e-4b2c-de22-6644a63e4dad"
      },
      "source": [
        "plt.plot(history.history['accuracy'], label=\"train_acc\")\n",
        "plt.plot(history.history['val_accuracy'], label=\"val_acc\")\n",
        "plt.legend()\n",
        "plt.show()"
      ],
      "execution_count": 31,
      "outputs": [
        {
          "output_type": "display_data",
          "data": {
            "image/png": "[encoded data removed]",
            "text/plain": [
              "<Figure size 432x288 with 1 Axes>"
            ]
          },
          "metadata": {
            "needs_background": "light"
          }
        }
      ]
    },
    {
      "cell_type": "code",
      "metadata": {
        "id": "9MQuV1cdRzPY",
        "colab": {
          "base_uri": "https://localhost:8080/"
        },
        "outputId": "e86c86c8-a390-44ec-aa31-8b0a3de6b9ba"
      },
      "source": [
        "model.evaluate(xtest, ytest_1hot)"
      ],
      "execution_count": 32,
      "outputs": [
        {
          "output_type": "stream",
          "name": "stdout",
          "text": [
            "313/313 [==============================] - 1s 3ms/step - loss: 1.5573 - accuracy: 0.4367\n"
          ]
        },
        {
          "output_type": "execute_result",
          "data": {
            "text/plain": [
              "[1.5573241710662842, 0.4366999864578247]"
            ]
          },
          "metadata": {},
          "execution_count": 32
        }
      ]
    },
    {
      "cell_type": "markdown",
      "metadata": {
        "id": "n5c4pfSzRzPY"
      },
      "source": [
        "Add your comments here"
      ]
    },
    {
      "cell_type": "markdown",
      "metadata": {
        "id": "zwuj_eTpqydm"
      },
      "source": [
        "With different batch sizes and numbers of hidden layers, the one with more hidden layers and batch size clearly has low probability to overfit, while the accuracy of other model converges faster. In conclusion, the second one could be better than the first one. "
      ]
    }
  ]
}