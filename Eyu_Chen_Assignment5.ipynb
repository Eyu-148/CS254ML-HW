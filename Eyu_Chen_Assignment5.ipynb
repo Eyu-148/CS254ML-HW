{
  "nbformat": 4,
  "nbformat_minor": 0,
  "metadata": {
    "kernelspec": {
      "display_name": "Python 3",
      "language": "python",
      "name": "python3"
    },
    "language_info": {
      "codemirror_mode": {
        "name": "ipython",
        "version": 3
      },
      "file_extension": ".py",
      "mimetype": "text/x-python",
      "name": "python",
      "nbconvert_exporter": "python",
      "pygments_lexer": "ipython3",
      "version": "3.7.7"
    },
    "colab": {
      "name": "Eyu_Chen_Assignment5.ipynb",
      "provenance": [],
      "collapsed_sections": [],
      "include_colab_link": true
    }
  },
  "cells": [
    {
      "cell_type": "markdown",
      "metadata": {
        "id": "view-in-github",
        "colab_type": "text"
      },
      "source": [
        "<a href=\"https://colab.research.google.com/github/Eyu-148/CS254ML-HW/blob/main/Eyu_Chen_Assignment5.ipynb\" target=\"_parent\"><img src=\"https://colab.research.google.com/assets/colab-badge.svg\" alt=\"Open In Colab\"/></a>"
      ]
    },
    {
      "cell_type": "markdown",
      "metadata": {
        "id": "2XRXy-HihP3F"
      },
      "source": [
        "# Assignment 5\n"
      ]
    },
    {
      "cell_type": "markdown",
      "metadata": {
        "id": "xXgA_mVhhP3I"
      },
      "source": [
        "In this assignment you will use sklearn library to implement Decision Tree and Random Forests classifiers.\n",
        "   \n",
        "    - For part 0 and 1 you will use the Digits dataset from skLearn, 1797 images of 8x8 pixels each.\n",
        "    \n",
        "  For Part 1:\n",
        "    - You need to split the data to train and test.\n",
        "    - After that, you need to create DecisionTreeClassifier from sklearn, train on the training and test on the testing split. \n",
        "    - After that, you need to investigate the effect of having smaller number of features on the Decision Tree (DT) performance. You need to train and evaluate a DT classifier for each set of features. i.e. 1 feature, 2 features, 3 features, ... 64 features. \n",
        "    - After that, you need build RandomForest classifier and plot its performance trained from different number of estimators. \n",
        "  For Part 2:\n",
        "    - You need to work on another digit dataset (MNIST), the images are 28x28 pixels already split to train and test (60000 samples for training and 10000 for testing).\n",
        "    - You need to train a RandomForest classifier and test it on the testing data.\n",
        "    - Then, you need to implement the RandomForest classifier by aggregating multiple DecisionTreeClassifiers. Compare the implemented aggregated version with the sklearn RandomForestClassifier. They should approximately match.\n"
      ]
    },
    {
      "cell_type": "code",
      "metadata": {
        "id": "chlJgkcUhP3K"
      },
      "source": [
        "# import modules\n",
        "import numpy as np\n",
        "import pandas as pd\n",
        "import matplotlib.pyplot as plt\n",
        "\n",
        "# sklearn utilities\n",
        "from sklearn import datasets\n",
        "from sklearn.model_selection import train_test_split\n",
        "from sklearn.metrics import confusion_matrix, classification_report\n",
        "\n",
        "# sklearn models\n",
        "from sklearn.tree import DecisionTreeClassifier\n",
        "from sklearn.ensemble import RandomForestClassifier\n",
        "import tensorflow as tf"
      ],
      "execution_count": 2,
      "outputs": []
    },
    {
      "cell_type": "markdown",
      "metadata": {
        "id": "zaV1jr9xhP3M"
      },
      "source": [
        "## Part 0: Prepare the data"
      ]
    },
    {
      "cell_type": "markdown",
      "metadata": {
        "id": "hcsCH8EqhP3N"
      },
      "source": [
        "#### Q1) (10 points) SKLearn's load_digits()\n",
        "- Load the data\n",
        "- You will be using this data for the entire assignment"
      ]
    },
    {
      "cell_type": "code",
      "metadata": {
        "id": "HhHhz5UOhP3N"
      },
      "source": [
        "digits = datasets.load_digits()"
      ],
      "execution_count": 3,
      "outputs": []
    },
    {
      "cell_type": "markdown",
      "metadata": {
        "id": "7SQ8S2vwhP3O"
      },
      "source": [
        "#### Q2) (10 points) Train test split\n",
        "- We need to split our data into two groups in order to validate model performance and generalization ability \n",
        "- Use the sklearn train_test_split function to obtain training data and testing data\n",
        "- Important: you must use a test size of 0.25 and a random_state of 0\n",
        "\n",
        "Hint:\n",
        "- size of trainig should be (1347, 64) y: (1347,), size of Testing should be : (450, 64) y: (450,)."
      ]
    },
    {
      "cell_type": "code",
      "metadata": {
        "colab": {
          "base_uri": "https://localhost:8080/"
        },
        "id": "9L5RK-4chP3P",
        "outputId": "d793f137-83c3-43de-faa9-eda21c1b3f3e"
      },
      "source": [
        "X_train, X_test, y_train, y_test = train_test_split(digits.data, digits.target, test_size=0.25, random_state=0)\n",
        "print(X_train.shape, y_train.shape, X_test.shape, y_test.shape)"
      ],
      "execution_count": 4,
      "outputs": [
        {
          "output_type": "stream",
          "name": "stdout",
          "text": [
            "(1347, 64) (1347,) (450, 64) (450,)\n"
          ]
        }
      ]
    },
    {
      "cell_type": "markdown",
      "metadata": {
        "id": "UppHJzwwhP3P"
      },
      "source": [
        "## Part 1: Trees"
      ]
    },
    {
      "cell_type": "markdown",
      "metadata": {
        "id": "6uCkmD35hP3Q"
      },
      "source": [
        "#### Q3) (15 points) Build an decision tree classifier\n",
        "- Create a DecisionTreeClassifier object\n",
        "- Call the .fit() function to train your model\n",
        "- Call the .score() function to assess model accuracy\n",
        "- Print your accuracy."
      ]
    },
    {
      "cell_type": "code",
      "metadata": {
        "colab": {
          "base_uri": "https://localhost:8080/"
        },
        "id": "E2X6fxXGhP3Q",
        "outputId": "9d8ee0ec-6fcf-4481-c0b6-77af55d5db19"
      },
      "source": [
        "clf = DecisionTreeClassifier()\n",
        "clf.fit(X_train, y_train)\n",
        "print(\"accuracy: \", clf.score(X_test, y_test))"
      ],
      "execution_count": 5,
      "outputs": [
        {
          "output_type": "stream",
          "name": "stdout",
          "text": [
            "accuracy:  0.8577777777777778\n"
          ]
        }
      ]
    },
    {
      "cell_type": "markdown",
      "metadata": {
        "id": "VgCYEp_0hP3R"
      },
      "source": [
        "#### Q4) (15 points) Search for max_features\n",
        "- Create a for loop iterating though all possible values for the hyperparameter max_features\n",
        "- Create a tree with max_features = i for each value within your loop\n",
        "- Fit and score each tree\n",
        "- Save these scores to some list structure"
      ]
    },
    {
      "cell_type": "code",
      "metadata": {
        "id": "v0bboh_DhP3S"
      },
      "source": [
        "scores = []\n",
        "for i in range(1, clf.max_features_ + 1):\n",
        "  clf_maxFeature = DecisionTreeClassifier(max_features=i)\n",
        "  clf_maxFeature.fit(X_train, y_train)\n",
        "  #print(i, \"-->\", clf_maxFeature.score(X_test, y_test))\n",
        "  scores.append(clf_maxFeature.score(X_test, y_test))"
      ],
      "execution_count": 6,
      "outputs": []
    },
    {
      "cell_type": "markdown",
      "metadata": {
        "id": "OEf2L_UwhP3S"
      },
      "source": [
        "#### Q5) (15 points) Plot of scores\n",
        "- Create a graph plotting y=scores from the above question (Use any visualization that you think makes sense)\n",
        "- Briefly explain max_features in the context of your graph\n",
        "\n",
        "Hint:\n",
        "- You can use plt.plot() and plt.show() functions.\n"
      ]
    },
    {
      "cell_type": "code",
      "metadata": {
        "id": "C3axz9J0hP3T",
        "colab": {
          "base_uri": "https://localhost:8080/",
          "height": 282
        },
        "outputId": "0daf57c9-8b61-4629-a49b-f8086a357584"
      },
      "source": [
        "plt.plot(np.arange(1, clf.max_features_ + 1, dtype=int), scores)\n",
        "plt.show()"
      ],
      "execution_count": 7,
      "outputs": [
        {
          "output_type": "display_data",
          "data": {
            "image/png": "[encoded data removed]",
            "text/plain": [
              "<Figure size 432x288 with 1 Axes>"
            ]
          },
          "metadata": {
            "needs_background": "light"
          }
        }
      ]
    },
    {
      "cell_type": "markdown",
      "metadata": {
        "id": "98fDJ2RqmUtR"
      },
      "source": [
        "As max_features increases, the accuaracy is converging to nearly the value we got by score(). "
      ]
    },
    {
      "cell_type": "markdown",
      "metadata": {
        "id": "A6S0aJOThP3U"
      },
      "source": [
        "## Part 2: Forests"
      ]
    },
    {
      "cell_type": "markdown",
      "metadata": {
        "id": "4VYr2SwIhP3V"
      },
      "source": [
        "#### Q6) (15 points) Build an random forest classification model\n",
        "- Create a RandomForestClassifier object\n",
        "- Call the .fit() function to train your model\n",
        "- Call the .score() function to assess model accuracy\n",
        "- Print your accuracy"
      ]
    },
    {
      "cell_type": "code",
      "metadata": {
        "id": "vrXioLZehP3V",
        "colab": {
          "base_uri": "https://localhost:8080/"
        },
        "outputId": "a64e1a2e-4595-4b98-c349-c7637208e0d5"
      },
      "source": [
        "clf_rf = RandomForestClassifier(random_state=0)\n",
        "clf_rf.fit(X_train, y_train)\n",
        "print(\"Accuracy: \", clf_rf.score(X_test, y_test))"
      ],
      "execution_count": 8,
      "outputs": [
        {
          "output_type": "stream",
          "name": "stdout",
          "text": [
            "Accuracy:  0.9755555555555555\n"
          ]
        }
      ]
    },
    {
      "cell_type": "markdown",
      "metadata": {
        "id": "67ge_rpMhP3W"
      },
      "source": [
        "#### Q7) (20 points) The n_estimators hyperparameter\n",
        "- Write a for loop to iterate through many different sizes of trees (using the n_estimators hyperparameter)\n",
        "- Graph and report your findings\n",
        "\n",
        "Hint:\n",
        "- you can choose up to 300 estimatores with step size of 10"
      ]
    },
    {
      "cell_type": "code",
      "metadata": {
        "id": "pOWXTb1vhP3W",
        "colab": {
          "base_uri": "https://localhost:8080/",
          "height": 282
        },
        "outputId": "058ee510-64c3-485c-cba6-e98bdb42c7e3"
      },
      "source": [
        "scores_rf = []\n",
        "for i in range(1, 301, 10):\n",
        "  clf_estimatores = RandomForestClassifier(n_estimators=i)\n",
        "  clf_estimatores.fit(X_train, y_train)\n",
        "  scores_rf.append(clf_estimatores.score(X_test, y_test))\n",
        "plt.scatter(np.arange(1, 301, 10, dtype=int), scores_rf)\n",
        "plt.show()"
      ],
      "execution_count": 9,
      "outputs": [
        {
          "output_type": "display_data",
          "data": {
            "image/png": "[encoded data removed]",
            "text/plain": [
              "<Figure size 432x288 with 1 Axes>"
            ]
          },
          "metadata": {
            "needs_background": "light"
          }
        }
      ]
    },
    {
      "cell_type": "markdown",
      "metadata": {
        "id": "VloyKbPcmyQt"
      },
      "source": [
        "With increasing number of estimatores, the accuaracy is converging to nearly 0.97. "
      ]
    },
    {
      "cell_type": "markdown",
      "metadata": {
        "id": "mYbelUcohP3X"
      },
      "source": [
        "## Graduate Student's Problem\n",
        "(Or extra credit for undergraduates)"
      ]
    },
    {
      "cell_type": "markdown",
      "metadata": {
        "id": "wgjUMqAYhP3X"
      },
      "source": [
        "#### Q1) (10 points) MNIST baseline model\n",
        "- Load the mnist dataset from the Keras/Tensorflow datasets library (or find the dataset online and import it with your method of choice) https://docs.anaconda.com/anaconda/user-guide/tasks/tensorflow/\n",
        "- Transform the shape of your input data from (len(data), 28, 28) to (len(data), 28 * 28) (This step may already be taken care of)\n",
        "- Create a RandomForestClassifier, train on your training data, and obtain an accuracy score with your test data.\n",
        "\n",
        "Hints:\n",
        "- you can load load mnist dataset from tensorflow library by calling tf.keras.datasets.mnist.load_data(), where tf is the mported tensorflow.\n",
        "- use reshape function to reshape your data. the data should diminsions after reshape should look like:\n",
        "    - (60000, 784) for training \n",
        "    - (10000, 784) for testing\n",
        "    "
      ]
    },
    {
      "cell_type": "code",
      "metadata": {
        "id": "cbmQaT3MhP3Y",
        "colab": {
          "base_uri": "https://localhost:8080/"
        },
        "outputId": "abc781aa-6f8e-4d66-ac38-6ca7a0fd0caa"
      },
      "source": [
        "mnist = tf.keras.datasets.mnist\n",
        "(x_train, y_train),(x_test, y_test) = mnist.load_data()\n",
        "x_train = x_train.reshape(len(x_train), 28*28)\n",
        "x_test = x_test.reshape(len(x_test), 28*28)\n",
        "clf_rf2 = RandomForestClassifier().fit(x_train, y_train)\n",
        "print(\"Accuracy: \", clf_rf2.score(x_test, y_test))\n",
        "print(x_test.shape, x_train.shape)"
      ],
      "execution_count": 10,
      "outputs": [
        {
          "output_type": "stream",
          "name": "stdout",
          "text": [
            "Downloading data from https://storage.googleapis.com/tensorflow/tf-keras-datasets/mnist.npz\n",
            "11493376/11490434 [==============================] - 0s 0us/step\n",
            "11501568/11490434 [==============================] - 0s 0us/step\n",
            "Accuracy:  0.9691\n",
            "(10000, 784) (60000, 784)\n"
          ]
        }
      ]
    },
    {
      "cell_type": "markdown",
      "metadata": {
        "id": "OGet8FsWhP3Z"
      },
      "source": [
        "#### Q2) (10 points) Create a \"Forest\" of DecisionTreeClassifiers\n",
        "- Create a list of n DecisionTreeClassifier objects, where n is the same number of trees as your RandomForestClassifier above\n",
        "- Loop through your forest and train all of your trees individually\n",
        "\n",
        "Hints:\n",
        "- In this version of customized Randomforst (esnemble of DecisionTrees), I am not asking to train from subset of training data (you can do it if you would like), I am asking to randomize from features by setting max_features to sqrt (recommended as you are doing classiciation)."
      ]
    },
    {
      "cell_type": "code",
      "metadata": {
        "id": "wNosFk9nhP3Z",
        "colab": {
          "base_uri": "https://localhost:8080/"
        },
        "outputId": "c5cd603e-eaa5-4c1c-a26f-088cb8b34a27"
      },
      "source": [
        "print(clf_rf2.n_estimators)\n",
        "forest = []\n",
        "for n in range(clf_rf2.n_estimators + 1):\n",
        "  forest.append(DecisionTreeClassifier(max_features=\"sqrt\"))\n",
        "for tree in forest:\n",
        "  tree.fit(x_train, y_train)"
      ],
      "execution_count": 12,
      "outputs": [
        {
          "output_type": "stream",
          "name": "stdout",
          "text": [
            "100\n"
          ]
        }
      ]
    },
    {
      "cell_type": "markdown",
      "metadata": {
        "id": "Dic3YPcghP3Z"
      },
      "source": [
        "#### Q3) (15 points) Predict and score\n",
        "- Get predictions from all trees for each data point\n",
        "- How can we use these ensembles of predictions to create singular predictions for each data point?\n",
        "- Obtain an accuracy and compare with your baseline model accuracy (should be similar, but not necessarily the same)\n",
        "\n",
        "Hints:\n",
        "- Use this command to loop through your trees implemented in Q2: ensemble_predictions = np.array([tree.predict(x_test) for tree in forest]).T where forest is the list of your classiferes created in Q2.\n",
        "- you can use np.bincount with minlength=10 to aggregate your answers.\n",
        "- you can use np.argmax to find the max index of your predictions after using np.bincount. \n",
        "- Accuracy is equal to number of predictions that match the labels in ytest divided by the total number of samples. You can use \"==\" operator to compare between two lists."
      ]
    },
    {
      "cell_type": "code",
      "metadata": {
        "id": "E6ySR7HfhP3a"
      },
      "source": [
        "ensemble_predictions = np.array([tree.predict(x_test) for tree in forest])"
      ],
      "execution_count": 13,
      "outputs": []
    },
    {
      "cell_type": "code",
      "metadata": {
        "id": "oKaGp6UOhP3a"
      },
      "source": [
        ""
      ],
      "execution_count": null,
      "outputs": []
    }
  ]
}