{
 "cells": [
  {
   "cell_type": "markdown",
   "metadata": {},
   "source": [
    "# Assignment 2\n",
    "In this assignment, we will be covering Linear Regression with polynomial feature combinations and regularization. The beginning of this assignment should look familiar (because it was taken from the LinearRegression.ipynb), but we will be expanding upon these ideas in the second half of this notebook. Refer to the LinearRegression video for more detials on the LinearRegression.ipynb code. please start from there before you start this assignment."
   ]
  },
  {
   "cell_type": "code",
   "execution_count": 44,
   "metadata": {},
   "outputs": [],
   "source": [
    "# importing modules\n",
    "\n",
    "import os\n",
    "import numpy as np\n",
    "import pandas as pd\n",
    "import matplotlib.pyplot as plt\n",
    "\n",
    "from sklearn.linear_model import LinearRegression\n",
    "from sklearn.metrics import mean_squared_error\n",
    "\n",
    "%matplotlib inline"
   ]
  },
  {
   "cell_type": "code",
   "execution_count": 45,
   "metadata": {},
   "outputs": [
    {
     "data": {
      "text/html": [
       "<div>\n",
       "<style scoped>\n",
       "    .dataframe tbody tr th:only-of-type {\n",
       "        vertical-align: middle;\n",
       "    }\n",
       "\n",
       "    .dataframe tbody tr th {\n",
       "        vertical-align: top;\n",
       "    }\n",
       "\n",
       "    .dataframe thead th {\n",
       "        text-align: right;\n",
       "    }\n",
       "</style>\n",
       "<table border=\"1\" class=\"dataframe\">\n",
       "  <thead>\n",
       "    <tr style=\"text-align: right;\">\n",
       "      <th></th>\n",
       "      <th>GranulesDiameter</th>\n",
       "      <th>BeachSlope</th>\n",
       "    </tr>\n",
       "  </thead>\n",
       "  <tbody>\n",
       "    <tr>\n",
       "      <th>0</th>\n",
       "      <td>0.170</td>\n",
       "      <td>0.63</td>\n",
       "    </tr>\n",
       "    <tr>\n",
       "      <th>1</th>\n",
       "      <td>0.190</td>\n",
       "      <td>0.70</td>\n",
       "    </tr>\n",
       "    <tr>\n",
       "      <th>2</th>\n",
       "      <td>0.220</td>\n",
       "      <td>0.82</td>\n",
       "    </tr>\n",
       "    <tr>\n",
       "      <th>3</th>\n",
       "      <td>0.235</td>\n",
       "      <td>0.88</td>\n",
       "    </tr>\n",
       "    <tr>\n",
       "      <th>4</th>\n",
       "      <td>0.235</td>\n",
       "      <td>1.15</td>\n",
       "    </tr>\n",
       "  </tbody>\n",
       "</table>\n",
       "</div>"
      ],
      "text/plain": [
       "   GranulesDiameter  BeachSlope\n",
       "0             0.170        0.63\n",
       "1             0.190        0.70\n",
       "2             0.220        0.82\n",
       "3             0.235        0.88\n",
       "4             0.235        1.15"
      ]
     },
     "execution_count": 45,
     "metadata": {},
     "output_type": "execute_result"
    }
   ],
   "source": [
    "# loading data\n",
    "# If you have not already, you will need to create a folder named data for your data file\n",
    "# Or you can just change the path below to your desired path\n",
    "\n",
    "path = os.getcwd() + '\\\\OneDrive\\桌面\\Assignment_2\\data\\linearRegression.csv'\n",
    "data = pd.read_csv(path, header=None, names=['GranulesDiameter', 'BeachSlope'])\n",
    "data.head()"
   ]
  },
  {
   "cell_type": "code",
   "execution_count": 46,
   "metadata": {},
   "outputs": [
    {
     "data": {
      "text/plain": [
       "<matplotlib.collections.PathCollection at 0x18df955a0a0>"
      ]
     },
     "execution_count": 46,
     "metadata": {},
     "output_type": "execute_result"
    },
    {
     "data": {
      "image/png": "[encoded data removed]",
      "text/plain": [
       "<Figure size 432x288 with 1 Axes>"
      ]
     },
     "metadata": {
      "needs_background": "light"
     },
     "output_type": "display_data"
    }
   ],
   "source": [
    "# PLot of data\n",
    "\n",
    "plt.scatter(data.values[:, 0], data.values[:, 1])"
   ]
  },
  {
   "cell_type": "code",
   "execution_count": 47,
   "metadata": {},
   "outputs": [
    {
     "name": "stdout",
     "output_type": "stream",
     "text": [
      "   GranulesDiameter  BeachSlope  ones\n",
      "0             0.170        0.63   1.0\n",
      "1             0.190        0.70   1.0\n",
      "2             0.220        0.82   1.0\n",
      "3             0.235        0.88   1.0\n",
      "4             0.235        1.15   1.0\n",
      "5             0.300        1.50   1.0\n",
      "6             0.350        4.40   1.0\n",
      "7             0.420        7.30   1.0\n",
      "8             0.850       11.30   1.0\n"
     ]
    }
   ],
   "source": [
    "# add column of ones for bias term (this is used later in the regression pipeline)\n",
    "data['ones'] = np.ones(data.shape[0])\n",
    "\n",
    "# split data into input (x) and target (y) values\n",
    "x = data[[\"GranulesDiameter\", \"ones\"]].values\n",
    "y = data[\"BeachSlope\"].values\n",
    "\n",
    "print(data)"
   ]
  },
  {
   "cell_type": "code",
   "execution_count": 48,
   "metadata": {},
   "outputs": [
    {
     "data": {
      "text/plain": [
       "LinearRegression(fit_intercept=False)"
      ]
     },
     "execution_count": 48,
     "metadata": {},
     "output_type": "execute_result"
    }
   ],
   "source": [
    "# build and fit sklearn LinearRegression model\n",
    "clf = LinearRegression(fit_intercept=False)\n",
    "clf.fit(x, y)"
   ]
  },
  {
   "cell_type": "code",
   "execution_count": 49,
   "metadata": {},
   "outputs": [
    {
     "name": "stdout",
     "output_type": "stream",
     "text": [
      "Optimal theta: [17.1593689  -2.47592505]\n",
      "Cost 1.1423147748040035\n"
     ]
    }
   ],
   "source": [
    "# access coefficients and mean squared error\n",
    "theta = clf.coef_\n",
    "mse = mean_squared_error(clf.predict(x), y)\n",
    "\n",
    "print(\"Optimal theta:\", theta)\n",
    "print(\"Cost\", mse)\n",
    "\n",
    "# output should be:\n",
    "# Optimal theta: [17.1593689  -2.47592505]\n",
    "# Cost 1.1423147748040037"
   ]
  },
  {
   "cell_type": "code",
   "execution_count": 50,
   "metadata": {},
   "outputs": [],
   "source": [
    "def calcVectorizedCost(x, y, theta):\n",
    "    \n",
    "    \"\"\"\n",
    "    Caculating cost metric as mean squared error (MSE)\n",
    "    \n",
    "    x: independent variable\n",
    "    y: dependent variable\n",
    "    theta: current weights (coefficients) for regression\n",
    "    \"\"\"\n",
    "    \n",
    "    error = x.dot(theta) - y\n",
    "    return error.dot(error) / len(x)\n",
    "    \n",
    "    \n",
    "def gradientDescent(x, y, thetaInit, eta, epochs):\n",
    "    \n",
    "    \"\"\"\n",
    "    Caculating gradients and updating thetas through gradient descent loop\n",
    "    \n",
    "    x: independent variable\n",
    "    y: dependent variable\n",
    "    thetaInit: current weights (coefficients) for regression\n",
    "    eta: learning rate\n",
    "    epochs: number of steps for updating theta\n",
    "    \"\"\"\n",
    "    \n",
    "    # copy theta and initialize losses\n",
    "    theta = np.copy(thetaInit)\n",
    "    losses = []\n",
    "    losses.append(calcVectorizedCost(x, y, theta))\n",
    "    \n",
    "    # run gradient descent loop\n",
    "    for i in range(epochs):\n",
    "        gradient = 2 * (x.T.dot(x.dot(theta) - y)) / x.shape[0]\n",
    "        theta -= eta * gradient\n",
    "        losses.append(calcVectorizedCost(x, y, theta))\n",
    "\n",
    "    return theta, losses    "
   ]
  },
  {
   "cell_type": "code",
   "execution_count": 51,
   "metadata": {},
   "outputs": [
    {
     "name": "stdout",
     "output_type": "stream",
     "text": [
      "Optimal theta: [17.14629046 -2.47145051]\n",
      "Cost 1.142321549619812\n",
      "9\n"
     ]
    }
   ],
   "source": [
    "thetaInit = np.zeros(x.shape[1])\n",
    "eta = 0.1\n",
    "epochs = 1000\n",
    "\n",
    "theta, losses = gradientDescent(x, y, thetaInit, eta, epochs)\n",
    "\n",
    "print(\"Optimal theta:\", theta)\n",
    "print(\"Cost\", losses[-1])\n",
    "print(x.shape[0])\n",
    "\n",
    "# Output should be SIMILAR TO OR SAME AS the cost and theta from previous step"
   ]
  },
  {
   "cell_type": "code",
   "execution_count": 52,
   "metadata": {},
   "outputs": [],
   "source": [
    "def predict(theta, x):\n",
    "    return x.dot(theta)\n",
    "    \n",
    "    \n",
    "def plot_SinpleLinearRegression_line(theta, x):\n",
    "    \n",
    "    \"\"\"\n",
    "    Plotting regression line for simple linear regression\n",
    "    \"\"\"\n",
    "    \n",
    "    # find min and max values\n",
    "    min_x = np.min(x[:, 0])\n",
    "    max_x = np.max(x[:, 0])\n",
    "        \n",
    "    # access model's prediction at those points and plot\n",
    "    y_vals = predict(theta, np.array([[min_x, 1], [max_x, 1]]))\n",
    "    plt.plot([min_x, max_x], y_vals, 'r')"
   ]
  },
  {
   "cell_type": "code",
   "execution_count": 53,
   "metadata": {},
   "outputs": [
    {
     "data": {
      "image/png": "[encoded data removed]",
      "text/plain": [
       "<Figure size 432x288 with 1 Axes>"
      ]
     },
     "metadata": {
      "needs_background": "light"
     },
     "output_type": "display_data"
    }
   ],
   "source": [
    "# plot of data and regression line\n",
    "\n",
    "plt.scatter(x[:, 0], y)\n",
    "plot_SinpleLinearRegression_line(theta, x)"
   ]
  },
  {
   "cell_type": "markdown",
   "metadata": {},
   "source": [
    "# Assignment 2 Questions\n",
    "Now it is your turn to apply some of the regression concepts covered in class. Below we will be first transforming our features with PolynomialFeatures from sklearn. Once we have done this transformation, you will then fit this new data. Once the data is fit, we will analyze the effects of regularization on our new polynomial fit. Each Question worth <b>14 Points</b> + 2 extra points for all."
   ]
  },
  {
   "cell_type": "markdown",
   "metadata": {},
   "source": [
    "<Strong>Q1)</Strong> Import PolynomialFeatures from sklearn. Next, you will need to create a PolynomialFeatures object <b>(with the degree hyperparam set to 5)</b> which we will denote as the variable \"poly\". Then we will transform our data using this object that we have created. Use the docs to assist you with understanding and implementing https://scikit-learn.org/stable/modules/generated/sklearn.preprocessing.PolynomialFeatures.html"
   ]
  },
  {
   "cell_type": "code",
   "execution_count": 54,
   "metadata": {},
   "outputs": [
    {
     "data": {
      "text/plain": [
       "(9, 6)"
      ]
     },
     "execution_count": 54,
     "metadata": {},
     "output_type": "execute_result"
    }
   ],
   "source": [
    "from sklearn.preprocessing import PolynomialFeatures # Add import\n",
    "x = x[:,0].reshape(9,1)\n",
    "poly = PolynomialFeatures(5, include_bias=True) # create sklearn PolynomialFeatures Object with degree=5\n",
    "polynomial_x = poly.fit_transform(x) # fit your data using this object\n",
    "np.shape(polynomial_x)\n",
    "# Check to make sure that your polynomial_x is shape (9, 6)"
   ]
  },
  {
   "cell_type": "markdown",
   "metadata": {},
   "source": [
    "<Strong>Q2)</Strong> What does PolynomialFeatures allow us to do to our data? and why might we want to make this transformation? "
   ]
  },
  {
   "cell_type": "code",
   "execution_count": null,
   "metadata": {},
   "outputs": [],
   "source": [
    "# PolynomialFeatures allows us to deal with non-linear data by an improved linear regression, which is called polynomial\n",
    "# regression by adding powers of each features. Since it's common that we meet complex model and non-linear data which \n",
    "# is hard to be solved by plain linear regression, we need to improve linear regression to fit this kind of data."
   ]
  },
  {
   "cell_type": "markdown",
   "metadata": {},
   "source": [
    "<Strong>Q3)</Strong> Lets perform gradient decent with our new data. Fill in values for thetaInit (Note: we must have the correct diminsions of thetas for our new data), eta (use 0.25), and epochs (use 500,000). This may take some time to run because we are performing a large amount of iterations."
   ]
  },
  {
   "cell_type": "code",
   "execution_count": 55,
   "metadata": {
    "scrolled": true
   },
   "outputs": [],
   "source": [
    "thetaInit = np.zeros(polynomial_x.shape[1]) # theta initialization\n",
    "eta = 0.25 # learning rate\n",
    "epochs =500000 # iterations\n",
    "#print(polynomial_x, y)\n",
    "theta, losses = gradientDescent(polynomial_x, y, thetaInit, eta, epochs)"
   ]
  },
  {
   "cell_type": "code",
   "execution_count": 56,
   "metadata": {},
   "outputs": [],
   "source": [
    "def predict(theta, x):\n",
    "    return x.dot(theta)\n",
    "\n",
    "def plot_SimpleNonlinearRegression_line(theta, x, poly):\n",
    "\n",
    "    \"\"\"\n",
    "    Plotting regression line for nonlinear regression\n",
    "    \"\"\"\n",
    "    \n",
    "    # find min and max values\n",
    "    min_x = np.min(x[:, 0])\n",
    "    max_x = np.max(x[:, 0])\n",
    "    \n",
    "    # get range of data to transform and make predictions on\n",
    "    min_max_range = np.linspace(min_x, max_x, 100)\n",
    "    min_max_range_and_bias = np.vstack((min_max_range, np.ones(min_max_range.shape[0]))).T\n",
    "    polynomial_min_max_range = poly.fit_transform(min_max_range.reshape(-1, 1))\n",
    "\n",
    "    # access model's prediction at those points and plot\n",
    "    y_vals = predict(theta, polynomial_min_max_range)\n",
    "    plt.plot(min_max_range, y_vals)"
   ]
  },
  {
   "cell_type": "code",
   "execution_count": 57,
   "metadata": {},
   "outputs": [
    {
     "name": "stdout",
     "output_type": "stream",
     "text": [
      "[   6.13139843  -55.98739042  134.81507037   54.40031874  -52.88463569\n",
      " -113.69139403] [[0.17      ]\n",
      " [0.19      ]\n",
      " [0.22      ]\n",
      " [0.235     ]\n",
      " [0.235     ]\n",
      " [0.30000001]\n",
      " [0.34999999]\n",
      " [0.41999999]\n",
      " [0.85000002]] [ 0.63        0.69999999  0.81999999  0.88        1.14999998  1.5\n",
      "  4.4000001   7.30000019 11.30000019]\n"
     ]
    },
    {
     "data": {
      "image/png": "[encoded data removed]",
      "text/plain": [
       "<Figure size 432x288 with 1 Axes>"
      ]
     },
     "metadata": {
      "needs_background": "light"
     },
     "output_type": "display_data"
    }
   ],
   "source": [
    "# plot of data and regression line\n",
    "\n",
    "plt.scatter(x[:, 0], y, c=\"k\")\n",
    "plot_SimpleNonlinearRegression_line(theta, x, poly)\n",
    "print(theta, x, y)"
   ]
  },
  {
   "cell_type": "markdown",
   "metadata": {},
   "source": [
    "<Strong>Q4)</Strong> Do you think this fit/regression line is a good model for our data compared to the linear model above? Why? Do you believe we end up with overfitting? suggest away to reduce the overfitting if it exists (no code needed)?"
   ]
  },
  {
   "cell_type": "code",
   "execution_count": null,
   "metadata": {},
   "outputs": [],
   "source": [
    "# Yes, this line is better than that above since the cost is reduced to minumum, however, it ends up with overfitting\n",
    "# since it matches the trainning data so well and might get an issue when fitting testing data. \n",
    "# The way to reduce overfitting is to using regression and adding regularization term into the cost function"
   ]
  },
  {
   "cell_type": "markdown",
   "metadata": {},
   "source": [
    "<Strong>Q5)</Strong> In this question we need to add the regularization term to the gradient descent algorithm. Finish the calcVectorizedCostR and the gradientDescentR functions to do so. Make sure to add the proper ridge regularization terms. Hint: Use the Cost and Gradient Descent functions above as baselines. Also, check your notes on ridge regression regularization."
   ]
  },
  {
   "cell_type": "code",
   "execution_count": 60,
   "metadata": {},
   "outputs": [],
   "source": [
    "def calcVectorizedCostR(x, y, theta, alpha):\n",
    "    \n",
    "    \"\"\"\n",
    "    Caculating cost metric as mean squared error (MSE) with regularization\n",
    "    \n",
    "    x: independent variable\n",
    "    y: dependent variable\n",
    "    theta: current weights (coefficients) for regression\n",
    "    alpha: regularization term\n",
    "    \"\"\"\n",
    "    \n",
    "    # add your code here for cost with regularization\n",
    "    error = x.dot(theta) - y\n",
    "    cost = error.dot(error) / len(x)\n",
    "    reg = alpha * theta.dot(theta) / 2\n",
    "    return cost + reg\n",
    "    \n",
    "def gradientDescentR(x, y, thetaInit, eta, epochs, alpha):\n",
    "    \n",
    "    \"\"\"\n",
    "    Caculating gradients and updating thetas through gradient descent loop with regularization\n",
    "    \n",
    "    x: independent variable\n",
    "    y: dependent variable\n",
    "    thetaInit: current weights (coefficients) for regression\n",
    "    eta: learning rate\n",
    "    epochs: number of steps for updating theta\n",
    "    alpha: regularization term\n",
    "    \"\"\"\n",
    "\n",
    "    theta = np.copy(thetaInit)\n",
    "    losses = []\n",
    "    losses.append(calcVectorizedCostR(x, y, theta, alpha))\n",
    "    \n",
    "    for i in range(epochs):\n",
    "        # add your code here for gradient decent with regularization\n",
    "        gradient = (2 * (x.T.dot(x.dot(theta) - y)) / x.shape[0]) + alpha * theta\n",
    "        theta -= eta * gradient\n",
    "        losses.append(calcVectorizedCostR(x, y, theta, alpha))\n",
    "\n",
    "    return theta, losses    "
   ]
  },
  {
   "cell_type": "code",
   "execution_count": 64,
   "metadata": {},
   "outputs": [
    {
     "data": {
      "image/png": "[encoded data removed]",
      "text/plain": [
       "<Figure size 432x288 with 1 Axes>"
      ]
     },
     "metadata": {
      "needs_background": "light"
     },
     "output_type": "display_data"
    }
   ],
   "source": [
    "# Hyperparam initialization\n",
    "thetaInit = np.zeros(polynomial_x.shape[1])\n",
    "eta = 0.25\n",
    "epochs = 500_000\n",
    "alpha_values = [0, 0.0001, 0.0005, 0.001, 0.005, 0.01, 0.1]\n",
    "\n",
    "\n",
    "# Initializing plot\n",
    "plt.title(\"Regression Lines for Different Levels of Regulation\")\n",
    "plt.scatter(x[:, 0], y, c='k')\n",
    "\n",
    "# iterating over different alpha values (This is going to take a while)\n",
    "for i in alpha_values:\n",
    "    theta, losses = gradientDescentR(polynomial_x, y, thetaInit, eta, epochs, i)\n",
    "    plot_SimpleNonlinearRegression_line(theta, x, poly)\n",
    "    \n",
    "plt.legend(alpha_values)\n",
    "plt.show()"
   ]
  },
  {
   "cell_type": "markdown",
   "metadata": {},
   "source": [
    "<Strong>Q6)</Strong> Explain the observed regularization effect."
   ]
  },
  {
   "cell_type": "code",
   "execution_count": null,
   "metadata": {},
   "outputs": [],
   "source": [
    "# Comparing with the line of alpha=0 which causes overfitting, the line becomes flatter and with less curves when\n",
    "# alpha value is increasing. Even though the lines with regularization don't fit the points very well, it's common that\n",
    "# some errors exist. However, the proper alpha value should not be too big, for example, when alpha=0.1, the line is\n",
    "# much flatter and obviously doesn't fit some of point well, which will cause an more serious error than others. "
   ]
  },
  {
   "cell_type": "markdown",
   "metadata": {},
   "source": [
    "<Strong>Q7)</Strong> Which regularization value produces the best fit? Why?"
   ]
  },
  {
   "cell_type": "code",
   "execution_count": null,
   "metadata": {},
   "outputs": [],
   "source": [
    "# When alpha=0.001 it produces the best fit since it doesn't try to go over all the points and is flatter. Also, \n",
    "# this regularization helps to reduce the cost to a acceptable minimum.\n",
    "# alpha=0.0001 could be a better fit comparing with others. "
   ]
  }
 ],
 "metadata": {
  "kernelspec": {
   "display_name": "Python 3",
   "language": "python",
   "name": "python3"
  },
  "language_info": {
   "codemirror_mode": {
    "name": "ipython",
    "version": 3
   },
   "file_extension": ".py",
   "mimetype": "text/x-python",
   "name": "python",
   "nbconvert_exporter": "python",
   "pygments_lexer": "ipython3",
   "version": "3.8.8"
  }
 },
 "nbformat": 4,
 "nbformat_minor": 2
}
