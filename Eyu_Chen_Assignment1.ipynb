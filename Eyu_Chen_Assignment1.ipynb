{
 "cells": [
  {
   "cell_type": "markdown",
   "metadata": {},
   "source": [
    "# Getting Python\n",
    "\n",
    "\n",
    "For this course, we are going to use Jupyter notebook as our environment for developing Python code.\n",
    "refer to https://jupyter.readthedocs.io/en/latest/content-quickstart.html for the instructions on how to install it. The easiest way is to install from Anaconda (https://www.anaconda.com/download/) website, make sure you install with Python 3.7 or above.\n",
    "\n",
    "Also, it is good for the students who are not familiar with python (or they need a quick refreshment) to follow Jim Bagrow tutorial http://bagrow.com/ds1/whirlwindtourpython/00-Title.html. \n",
    "\n",
    "All the assignments need to be written in Python 3.7 or above and can be run using Jupyter on Chrome, Safari or Firefox. These are the browsers that officially supported by jupyter.\n",
    "\n",
    "<u> Note: for this assignment, submit your local copy of this page, running on IPython.The extension of the file is .ipynb. Don't submit if it is not the extention of your file. Submit the file to Blackboard under Assignment1 using this file format:</u> <b>Yourfirstname_lastname_Assignment1.ipynb. Marks might be deducted if you do not follow the submission steps.</b> \n",
    "\n",
    "\n"
   ]
  },
  {
   "cell_type": "markdown",
   "metadata": {},
   "source": [
    "# Assignment 1"
   ]
  },
  {
   "cell_type": "markdown",
   "metadata": {},
   "source": [
    "##### Always import the needed libraries in the first cell as it is a good coding practice"
   ]
  },
  {
   "cell_type": "code",
   "execution_count": 12,
   "metadata": {},
   "outputs": [],
   "source": [
    "import numpy as np \n",
    "import matplotlib.pyplot as plt\n",
    "import pandas as pd"
   ]
  },
  {
   "cell_type": "markdown",
   "metadata": {},
   "source": [
    "# Assignment 1 -- Part 1"
   ]
  },
  {
   "cell_type": "markdown",
   "metadata": {},
   "source": [
    "### Part 1, Q1  --  [8 pts]\n",
    "\n",
    "1. Use the np.linspace function to create a row vector called Points containing exactly 499 values with values evenly spaced between -1 and 1.\n",
    "\n",
    "2. What is the value at index 53?"
   ]
  },
  {
   "cell_type": "code",
   "execution_count": 7,
   "metadata": {},
   "outputs": [
    {
     "name": "stdout",
     "output_type": "stream",
     "text": [
      "[-1.00000000e+00 -9.95983936e-01 -9.91967871e-01 -9.87951807e-01\n",
      " -9.83935743e-01 -9.79919679e-01 -9.75903614e-01 -9.71887550e-01\n",
      " -9.67871486e-01 -9.63855422e-01 -9.59839357e-01 -9.55823293e-01\n",
      " -9.51807229e-01 -9.47791165e-01 -9.43775100e-01 -9.39759036e-01\n",
      " -9.35742972e-01 -9.31726908e-01 -9.27710843e-01 -9.23694779e-01\n",
      " -9.19678715e-01 -9.15662651e-01 -9.11646586e-01 -9.07630522e-01\n",
      " -9.03614458e-01 -8.99598394e-01 -8.95582329e-01 -8.91566265e-01\n",
      " -8.87550201e-01 -8.83534137e-01 -8.79518072e-01 -8.75502008e-01\n",
      " -8.71485944e-01 -8.67469880e-01 -8.63453815e-01 -8.59437751e-01\n",
      " -8.55421687e-01 -8.51405622e-01 -8.47389558e-01 -8.43373494e-01\n",
      " -8.39357430e-01 -8.35341365e-01 -8.31325301e-01 -8.27309237e-01\n",
      " -8.23293173e-01 -8.19277108e-01 -8.15261044e-01 -8.11244980e-01\n",
      " -8.07228916e-01 -8.03212851e-01 -7.99196787e-01 -7.95180723e-01\n",
      " -7.91164659e-01 -7.87148594e-01 -7.83132530e-01 -7.79116466e-01\n",
      " -7.75100402e-01 -7.71084337e-01 -7.67068273e-01 -7.63052209e-01\n",
      " -7.59036145e-01 -7.55020080e-01 -7.51004016e-01 -7.46987952e-01\n",
      " -7.42971888e-01 -7.38955823e-01 -7.34939759e-01 -7.30923695e-01\n",
      " -7.26907631e-01 -7.22891566e-01 -7.18875502e-01 -7.14859438e-01\n",
      " -7.10843373e-01 -7.06827309e-01 -7.02811245e-01 -6.98795181e-01\n",
      " -6.94779116e-01 -6.90763052e-01 -6.86746988e-01 -6.82730924e-01\n",
      " -6.78714859e-01 -6.74698795e-01 -6.70682731e-01 -6.66666667e-01\n",
      " -6.62650602e-01 -6.58634538e-01 -6.54618474e-01 -6.50602410e-01\n",
      " -6.46586345e-01 -6.42570281e-01 -6.38554217e-01 -6.34538153e-01\n",
      " -6.30522088e-01 -6.26506024e-01 -6.22489960e-01 -6.18473896e-01\n",
      " -6.14457831e-01 -6.10441767e-01 -6.06425703e-01 -6.02409639e-01\n",
      " -5.98393574e-01 -5.94377510e-01 -5.90361446e-01 -5.86345382e-01\n",
      " -5.82329317e-01 -5.78313253e-01 -5.74297189e-01 -5.70281124e-01\n",
      " -5.66265060e-01 -5.62248996e-01 -5.58232932e-01 -5.54216867e-01\n",
      " -5.50200803e-01 -5.46184739e-01 -5.42168675e-01 -5.38152610e-01\n",
      " -5.34136546e-01 -5.30120482e-01 -5.26104418e-01 -5.22088353e-01\n",
      " -5.18072289e-01 -5.14056225e-01 -5.10040161e-01 -5.06024096e-01\n",
      " -5.02008032e-01 -4.97991968e-01 -4.93975904e-01 -4.89959839e-01\n",
      " -4.85943775e-01 -4.81927711e-01 -4.77911647e-01 -4.73895582e-01\n",
      " -4.69879518e-01 -4.65863454e-01 -4.61847390e-01 -4.57831325e-01\n",
      " -4.53815261e-01 -4.49799197e-01 -4.45783133e-01 -4.41767068e-01\n",
      " -4.37751004e-01 -4.33734940e-01 -4.29718876e-01 -4.25702811e-01\n",
      " -4.21686747e-01 -4.17670683e-01 -4.13654618e-01 -4.09638554e-01\n",
      " -4.05622490e-01 -4.01606426e-01 -3.97590361e-01 -3.93574297e-01\n",
      " -3.89558233e-01 -3.85542169e-01 -3.81526104e-01 -3.77510040e-01\n",
      " -3.73493976e-01 -3.69477912e-01 -3.65461847e-01 -3.61445783e-01\n",
      " -3.57429719e-01 -3.53413655e-01 -3.49397590e-01 -3.45381526e-01\n",
      " -3.41365462e-01 -3.37349398e-01 -3.33333333e-01 -3.29317269e-01\n",
      " -3.25301205e-01 -3.21285141e-01 -3.17269076e-01 -3.13253012e-01\n",
      " -3.09236948e-01 -3.05220884e-01 -3.01204819e-01 -2.97188755e-01\n",
      " -2.93172691e-01 -2.89156627e-01 -2.85140562e-01 -2.81124498e-01\n",
      " -2.77108434e-01 -2.73092369e-01 -2.69076305e-01 -2.65060241e-01\n",
      " -2.61044177e-01 -2.57028112e-01 -2.53012048e-01 -2.48995984e-01\n",
      " -2.44979920e-01 -2.40963855e-01 -2.36947791e-01 -2.32931727e-01\n",
      " -2.28915663e-01 -2.24899598e-01 -2.20883534e-01 -2.16867470e-01\n",
      " -2.12851406e-01 -2.08835341e-01 -2.04819277e-01 -2.00803213e-01\n",
      " -1.96787149e-01 -1.92771084e-01 -1.88755020e-01 -1.84738956e-01\n",
      " -1.80722892e-01 -1.76706827e-01 -1.72690763e-01 -1.68674699e-01\n",
      " -1.64658635e-01 -1.60642570e-01 -1.56626506e-01 -1.52610442e-01\n",
      " -1.48594378e-01 -1.44578313e-01 -1.40562249e-01 -1.36546185e-01\n",
      " -1.32530120e-01 -1.28514056e-01 -1.24497992e-01 -1.20481928e-01\n",
      " -1.16465863e-01 -1.12449799e-01 -1.08433735e-01 -1.04417671e-01\n",
      " -1.00401606e-01 -9.63855422e-02 -9.23694779e-02 -8.83534137e-02\n",
      " -8.43373494e-02 -8.03212851e-02 -7.63052209e-02 -7.22891566e-02\n",
      " -6.82730924e-02 -6.42570281e-02 -6.02409639e-02 -5.62248996e-02\n",
      " -5.22088353e-02 -4.81927711e-02 -4.41767068e-02 -4.01606426e-02\n",
      " -3.61445783e-02 -3.21285141e-02 -2.81124498e-02 -2.40963855e-02\n",
      " -2.00803213e-02 -1.60642570e-02 -1.20481928e-02 -8.03212851e-03\n",
      " -4.01606426e-03 -1.11022302e-16  4.01606426e-03  8.03212851e-03\n",
      "  1.20481928e-02  1.60642570e-02  2.00803213e-02  2.40963855e-02\n",
      "  2.81124498e-02  3.21285141e-02  3.61445783e-02  4.01606426e-02\n",
      "  4.41767068e-02  4.81927711e-02  5.22088353e-02  5.62248996e-02\n",
      "  6.02409639e-02  6.42570281e-02  6.82730924e-02  7.22891566e-02\n",
      "  7.63052209e-02  8.03212851e-02  8.43373494e-02  8.83534137e-02\n",
      "  9.23694779e-02  9.63855422e-02  1.00401606e-01  1.04417671e-01\n",
      "  1.08433735e-01  1.12449799e-01  1.16465863e-01  1.20481928e-01\n",
      "  1.24497992e-01  1.28514056e-01  1.32530120e-01  1.36546185e-01\n",
      "  1.40562249e-01  1.44578313e-01  1.48594378e-01  1.52610442e-01\n",
      "  1.56626506e-01  1.60642570e-01  1.64658635e-01  1.68674699e-01\n",
      "  1.72690763e-01  1.76706827e-01  1.80722892e-01  1.84738956e-01\n",
      "  1.88755020e-01  1.92771084e-01  1.96787149e-01  2.00803213e-01\n",
      "  2.04819277e-01  2.08835341e-01  2.12851406e-01  2.16867470e-01\n",
      "  2.20883534e-01  2.24899598e-01  2.28915663e-01  2.32931727e-01\n",
      "  2.36947791e-01  2.40963855e-01  2.44979920e-01  2.48995984e-01\n",
      "  2.53012048e-01  2.57028112e-01  2.61044177e-01  2.65060241e-01\n",
      "  2.69076305e-01  2.73092369e-01  2.77108434e-01  2.81124498e-01\n",
      "  2.85140562e-01  2.89156627e-01  2.93172691e-01  2.97188755e-01\n",
      "  3.01204819e-01  3.05220884e-01  3.09236948e-01  3.13253012e-01\n",
      "  3.17269076e-01  3.21285141e-01  3.25301205e-01  3.29317269e-01\n",
      "  3.33333333e-01  3.37349398e-01  3.41365462e-01  3.45381526e-01\n",
      "  3.49397590e-01  3.53413655e-01  3.57429719e-01  3.61445783e-01\n",
      "  3.65461847e-01  3.69477912e-01  3.73493976e-01  3.77510040e-01\n",
      "  3.81526104e-01  3.85542169e-01  3.89558233e-01  3.93574297e-01\n",
      "  3.97590361e-01  4.01606426e-01  4.05622490e-01  4.09638554e-01\n",
      "  4.13654618e-01  4.17670683e-01  4.21686747e-01  4.25702811e-01\n",
      "  4.29718876e-01  4.33734940e-01  4.37751004e-01  4.41767068e-01\n",
      "  4.45783133e-01  4.49799197e-01  4.53815261e-01  4.57831325e-01\n",
      "  4.61847390e-01  4.65863454e-01  4.69879518e-01  4.73895582e-01\n",
      "  4.77911647e-01  4.81927711e-01  4.85943775e-01  4.89959839e-01\n",
      "  4.93975904e-01  4.97991968e-01  5.02008032e-01  5.06024096e-01\n",
      "  5.10040161e-01  5.14056225e-01  5.18072289e-01  5.22088353e-01\n",
      "  5.26104418e-01  5.30120482e-01  5.34136546e-01  5.38152610e-01\n",
      "  5.42168675e-01  5.46184739e-01  5.50200803e-01  5.54216867e-01\n",
      "  5.58232932e-01  5.62248996e-01  5.66265060e-01  5.70281124e-01\n",
      "  5.74297189e-01  5.78313253e-01  5.82329317e-01  5.86345382e-01\n",
      "  5.90361446e-01  5.94377510e-01  5.98393574e-01  6.02409639e-01\n",
      "  6.06425703e-01  6.10441767e-01  6.14457831e-01  6.18473896e-01\n",
      "  6.22489960e-01  6.26506024e-01  6.30522088e-01  6.34538153e-01\n",
      "  6.38554217e-01  6.42570281e-01  6.46586345e-01  6.50602410e-01\n",
      "  6.54618474e-01  6.58634538e-01  6.62650602e-01  6.66666667e-01\n",
      "  6.70682731e-01  6.74698795e-01  6.78714859e-01  6.82730924e-01\n",
      "  6.86746988e-01  6.90763052e-01  6.94779116e-01  6.98795181e-01\n",
      "  7.02811245e-01  7.06827309e-01  7.10843373e-01  7.14859438e-01\n",
      "  7.18875502e-01  7.22891566e-01  7.26907631e-01  7.30923695e-01\n",
      "  7.34939759e-01  7.38955823e-01  7.42971888e-01  7.46987952e-01\n",
      "  7.51004016e-01  7.55020080e-01  7.59036145e-01  7.63052209e-01\n",
      "  7.67068273e-01  7.71084337e-01  7.75100402e-01  7.79116466e-01\n",
      "  7.83132530e-01  7.87148594e-01  7.91164659e-01  7.95180723e-01\n",
      "  7.99196787e-01  8.03212851e-01  8.07228916e-01  8.11244980e-01\n",
      "  8.15261044e-01  8.19277108e-01  8.23293173e-01  8.27309237e-01\n",
      "  8.31325301e-01  8.35341365e-01  8.39357430e-01  8.43373494e-01\n",
      "  8.47389558e-01  8.51405622e-01  8.55421687e-01  8.59437751e-01\n",
      "  8.63453815e-01  8.67469880e-01  8.71485944e-01  8.75502008e-01\n",
      "  8.79518072e-01  8.83534137e-01  8.87550201e-01  8.91566265e-01\n",
      "  8.95582329e-01  8.99598394e-01  9.03614458e-01  9.07630522e-01\n",
      "  9.11646586e-01  9.15662651e-01  9.19678715e-01  9.23694779e-01\n",
      "  9.27710843e-01  9.31726908e-01  9.35742972e-01  9.39759036e-01\n",
      "  9.43775100e-01  9.47791165e-01  9.51807229e-01  9.55823293e-01\n",
      "  9.59839357e-01  9.63855422e-01  9.67871486e-01  9.71887550e-01\n",
      "  9.75903614e-01  9.79919679e-01  9.83935743e-01  9.87951807e-01\n",
      "  9.91967871e-01  9.95983936e-01  1.00000000e+00]\n",
      "-0.7871485943775101\n"
     ]
    }
   ],
   "source": [
    "#Your code here\n",
    "x1 = np.linspace(-1.0, 1.0, num = 499)\n",
    "print(x1)\n",
    "print(x1[53])"
   ]
  },
  {
   "cell_type": "markdown",
   "metadata": {},
   "source": [
    "### Part 1, Q2  --  [8 pts]\n",
    "\n",
    "For a given array x of 3x3 dimensions, convert this array into a one-dimensional array.\n",
    "\n",
    "Hint 1 :  The output should be [1 2 3 4 5 6 7 8 9].\n",
    "\n",
    "Hint 2: To get the dimension of an array, we use shape property. The dimension of the resulted array should be 1x9.\n"
   ]
  },
  {
   "cell_type": "code",
   "execution_count": 8,
   "metadata": {},
   "outputs": [
    {
     "name": "stdout",
     "output_type": "stream",
     "text": [
      "[[1 2 3 4 5 6 7 8 9]]\n"
     ]
    }
   ],
   "source": [
    "x2 = np.array([[1, 2, 3], [4, 5, 6],[7, 8, 9]])\n",
    "x2.shape = (1, 9)\n",
    "print(x2)\n",
    "\n",
    "#Your code here\n"
   ]
  },
  {
   "cell_type": "markdown",
   "metadata": {},
   "source": [
    "### Part 1, Q3  --  [8 pts]\n",
    "\n",
    "Create an 10 x 10 array of zeros and then \"frame\" it with a border of ones(The framed array's size should be 10x10)."
   ]
  },
  {
   "cell_type": "code",
   "execution_count": 15,
   "metadata": {},
   "outputs": [
    {
     "name": "stdout",
     "output_type": "stream",
     "text": [
      "[[1. 1. 1. 1. 1. 1. 1. 1. 1. 1.]\n",
      " [1. 0. 0. 0. 0. 0. 0. 0. 0. 1.]\n",
      " [1. 0. 0. 0. 0. 0. 0. 0. 0. 1.]\n",
      " [1. 0. 0. 0. 0. 0. 0. 0. 0. 1.]\n",
      " [1. 0. 0. 0. 0. 0. 0. 0. 0. 1.]\n",
      " [1. 0. 0. 0. 0. 0. 0. 0. 0. 1.]\n",
      " [1. 0. 0. 0. 0. 0. 0. 0. 0. 1.]\n",
      " [1. 0. 0. 0. 0. 0. 0. 0. 0. 1.]\n",
      " [1. 0. 0. 0. 0. 0. 0. 0. 0. 1.]\n",
      " [1. 1. 1. 1. 1. 1. 1. 1. 1. 1.]]\n"
     ]
    }
   ],
   "source": [
    "#Your code here\n",
    "x3 = np.zeros((10,10))\n",
    "x3[0:10,0] = 1\n",
    "x3[0:10,9] = 1\n",
    "x3[0,0:10] = 1\n",
    "x3[9,0:10] = 1\n",
    "print(x3)"
   ]
  },
  {
   "cell_type": "markdown",
   "metadata": {},
   "source": [
    "### Part 1, Q4  --  [8 pts]\n",
    "\n",
    "\n",
    "Create an 8 x 8 array with a checkerboard pattern of zeros and ones using for loop or vstack.\n",
    "The expected output is given below:\n",
    "      <h4> [[1, 0, 1, 0, 1, 0, 1, 0],</h4>\n",
    "      <h4> [0, 1, 0, 1, 0, 1, 0, 1], </h4>\n",
    "      <h4> [1, 0, 1, 0, 1, 0, 1, 0], </h4>\n",
    "      <h4> [0, 1, 0, 1, 0, 1, 0, 1], </h4>\n",
    "      <h4> [1, 0, 1, 0, 1, 0, 1, 0], </h4>\n",
    "      <h4> [0, 1, 0, 1, 0, 1, 0, 1], </h4>\n",
    "      <h4> [1, 0, 1, 0, 1, 0, 1, 0], </h4>\n",
    "      <h4> [0, 1, 0, 1, 0, 1, 0, 1]] </h4>\n",
    "      \n",
    "      "
   ]
  },
  {
   "cell_type": "code",
   "execution_count": 88,
   "metadata": {},
   "outputs": [
    {
     "name": "stdout",
     "output_type": "stream",
     "text": [
      "[[1 0 1 0 1 0 1 0]\n",
      " [0 1 0 1 0 1 0 1]\n",
      " [1 0 1 0 1 0 1 0]\n",
      " [0 1 0 1 0 1 0 1]\n",
      " [1 0 1 0 1 0 1 0]\n",
      " [0 1 0 1 0 1 0 1]\n",
      " [1 0 1 0 1 0 1 0]\n",
      " [0 1 0 1 0 1 0 1]]\n"
     ]
    }
   ],
   "source": [
    "#Your code here\n",
    "a = np.array([1,0,1,0,1,0,1,0])\n",
    "b = np.array([0,1,0,1,0,1,0,1])\n",
    "x4 = np.vstack((a,b))\n",
    "for i in range(0,3):\n",
    "    x4 = np.concatenate((x4, np.vstack((a,b))), axis = 0)\n",
    "print(x4)"
   ]
  },
  {
   "cell_type": "markdown",
   "metadata": {},
   "source": [
    "### Part 1, Q5  --  [8 pts]\n",
    "\n",
    "Create a function which creates an n×n array with the value of (i,j)-entry equal to i+j.Here i is the index of row and j is the index of column. For example, if the index of i is 2 and the index of j is 5, then, the value of i+j will be 7."
   ]
  },
  {
   "cell_type": "code",
   "execution_count": 39,
   "metadata": {},
   "outputs": [
    {
     "name": "stdout",
     "output_type": "stream",
     "text": [
      "[[0. 1. 2.]\n",
      " [1. 2. 3.]\n",
      " [2. 3. 4.]]\n"
     ]
    }
   ],
   "source": [
    "#Your code here\n",
    "def array(n):\n",
    "    x5 = np.zeros((n, n))\n",
    "    for i in range(0, x5.shape[0]):\n",
    "        for j in range(0, x5.shape[1]):\n",
    "            x5[i,j] = i + j\n",
    "    print(x5)\n",
    "    \n",
    "array(3)"
   ]
  },
  {
   "cell_type": "markdown",
   "metadata": {},
   "source": [
    "### Part 1, Q6  --  [8 pts]\n",
    "\n",
    "\n",
    "Define a matrix(2D array) of 100x100 and initialize this matrix by its row index. After that, define a vector(1D array) of length 100 and initialize this vector by the index of the element.\n",
    "\n",
    "Now, Use the dot function on a vector-vector, matrix-vector and matrix-matrix example. you can define your own dot function or use any build in functions. Dot function should peform dot product of two arrays (in this case between 2D and 1D array).\n",
    "\n",
    "Hint: One way of doing this is to use np.dot() function.\n",
    "You can have a look at this link: https://docs.scipy.org/doc/numpy/reference/generated/numpy.dot.html"
   ]
  },
  {
   "cell_type": "code",
   "execution_count": 44,
   "metadata": {},
   "outputs": [
    {
     "name": "stdout",
     "output_type": "stream",
     "text": [
      "328350\n",
      "[[     0.      0.      0. ...      0.      0.      0.]\n",
      " [  4950.   4950.   4950. ...   4950.   4950.   4950.]\n",
      " [  9900.   9900.   9900. ...   9900.   9900.   9900.]\n",
      " ...\n",
      " [480150. 480150. 480150. ... 480150. 480150. 480150.]\n",
      " [485100. 485100. 485100. ... 485100. 485100. 485100.]\n",
      " [490050. 490050. 490050. ... 490050. 490050. 490050.]]\n",
      "[     0.   4950.   9900.  14850.  19800.  24750.  29700.  34650.  39600.\n",
      "  44550.  49500.  54450.  59400.  64350.  69300.  74250.  79200.  84150.\n",
      "  89100.  94050.  99000. 103950. 108900. 113850. 118800. 123750. 128700.\n",
      " 133650. 138600. 143550. 148500. 153450. 158400. 163350. 168300. 173250.\n",
      " 178200. 183150. 188100. 193050. 198000. 202950. 207900. 212850. 217800.\n",
      " 222750. 227700. 232650. 237600. 242550. 247500. 252450. 257400. 262350.\n",
      " 267300. 272250. 277200. 282150. 287100. 292050. 297000. 301950. 306900.\n",
      " 311850. 316800. 321750. 326700. 331650. 336600. 341550. 346500. 351450.\n",
      " 356400. 361350. 366300. 371250. 376200. 381150. 386100. 391050. 396000.\n",
      " 400950. 405900. 410850. 415800. 420750. 425700. 430650. 435600. 440550.\n",
      " 445500. 450450. 455400. 460350. 465300. 470250. 475200. 480150. 485100.\n",
      " 490050.]\n"
     ]
    }
   ],
   "source": [
    "#Your code here\n",
    "x6 = np.zeros((100, 100))\n",
    "for i in range(0, x6.shape[0]):\n",
    "    x6[i,0:100] = i\n",
    "    \n",
    "v1 = np.arange(0, 100, 1)\n",
    "\n",
    "print(np.dot(v1, v1))\n",
    "print(np.dot(x6, x6))\n",
    "print(np.dot(x6, v1))"
   ]
  },
  {
   "cell_type": "markdown",
   "metadata": {},
   "source": [
    "### Part 1, Q7  --  [8 pts]\n",
    "\n",
    " For a given random 3x5 array using the np.random.randint() function,\n",
    " compute (without using for loop): the sum of all the entries, the sum of the rows and the sum of the columns. "
   ]
  },
  {
   "cell_type": "code",
   "execution_count": 50,
   "metadata": {},
   "outputs": [
    {
     "name": "stdout",
     "output_type": "stream",
     "text": [
      "[[25 11 38 38 18]\n",
      " [ 9  1 14 27 32]\n",
      " [ 4  6  1  1 24]]\n",
      "Sum of all Entries:  249\n",
      "Sum of all Rows:  [130  83  36]\n",
      "Sum of all Columns:  [38 18 53 66 74]\n"
     ]
    }
   ],
   "source": [
    "arr = np.random.randint(50, size=(3, 5))\n",
    "print(arr)\n",
    "# Your code here\n",
    "print(\"Sum of all Entries: \", np.sum(arr))\n",
    "print(\"Sum of all Rows: \", np.sum((arr), axis=1))\n",
    "print(\"Sum of all Columns: \", np.sum((arr), axis=0))"
   ]
  },
  {
   "cell_type": "markdown",
   "metadata": {},
   "source": [
    "### Part 1, Q8  --  [8 pts]\n",
    "In this question, a 5x5 array has been created using np.random.randint(). The goal is to sort(ascending) all the rows using the second column. To be more precise,to sort the rows, we will use the values from column 2.\n",
    "Lets say you have an array like below:\n",
    "\n",
    "[[46 36 40 40 25]\n",
    "\n",
    " [43  3 17 23  4]\n",
    " \n",
    " [43 39  7  9  4]\n",
    " \n",
    " After the sorting, you will have output like below:\n",
    " \n",
    " [43  3 17 23  4]\n",
    " \n",
    " [46 36 40 40 25]\n",
    " \n",
    " [43 39  7  9  4]\n",
    " \n",
    "\n",
    "Hint: You can use argsort function. It is just a way. You can follow other way if you want."
   ]
  },
  {
   "cell_type": "code",
   "execution_count": 71,
   "metadata": {},
   "outputs": [
    {
     "name": "stdout",
     "output_type": "stream",
     "text": [
      "Unsorted:\n",
      "[[12 40 46 12 21]\n",
      " [13 34 15 33 23]\n",
      " [ 5 38  7 11  1]\n",
      " [22  3 48 29 38]\n",
      " [17 23 40 17  0]]\n",
      "\n",
      "Rows sorted by the second column:\n",
      "[[22  3 48 29 38]\n",
      " [17 23 40 17  0]\n",
      " [13 34 15 33 23]\n",
      " [ 5 38  7 11  1]\n",
      " [12 40 46 12 21]]\n"
     ]
    }
   ],
   "source": [
    "x = np.random.randint(50, size=(5, 5))\n",
    "\n",
    "print('Unsorted:\\n{}\\n'.format(x))\n",
    "#Your code here\n",
    "x = x[np.argsort(x[:,1])]\n",
    "#--------------------\n",
    "print('Rows sorted by the second column:\\n{}'.format(x))"
   ]
  },
  {
   "cell_type": "markdown",
   "metadata": {},
   "source": [
    "# Assignment 1 -- Part 2\n",
    "For part 2, you will be using the Breast Cancer Wisconsin (Diagnostic) Database to create a classifier that can help diagnose patients. First, read through the description of the dataset (below)."
   ]
  },
  {
   "cell_type": "code",
   "execution_count": 5,
   "metadata": {},
   "outputs": [],
   "source": [
    "from sklearn.datasets import load_breast_cancer"
   ]
  },
  {
   "cell_type": "markdown",
   "metadata": {},
   "source": [
    "The object returned by load_breast_cancer() is a scikit-learn Bunch object, which is similar to a dictionary, for information about dictionary refer to http://bagrow.com/ds1/whirlwindtourpython/07-Built-in-Data-Structures.html"
   ]
  },
  {
   "cell_type": "code",
   "execution_count": 6,
   "metadata": {},
   "outputs": [
    {
     "data": {
      "text/plain": [
       "dict_keys(['data', 'target', 'frame', 'target_names', 'DESCR', 'feature_names', 'filename'])"
      ]
     },
     "execution_count": 6,
     "metadata": {},
     "output_type": "execute_result"
    }
   ],
   "source": [
    "cancer = load_breast_cancer()\n",
    "cancer.keys()"
   ]
  },
  {
   "cell_type": "code",
   "execution_count": 7,
   "metadata": {},
   "outputs": [
    {
     "data": {
      "text/plain": [
       "array([[1.799e+01, 1.038e+01, 1.228e+02, ..., 2.654e-01, 4.601e-01,\n",
       "        1.189e-01],\n",
       "       [2.057e+01, 1.777e+01, 1.329e+02, ..., 1.860e-01, 2.750e-01,\n",
       "        8.902e-02],\n",
       "       [1.969e+01, 2.125e+01, 1.300e+02, ..., 2.430e-01, 3.613e-01,\n",
       "        8.758e-02],\n",
       "       ...,\n",
       "       [1.660e+01, 2.808e+01, 1.083e+02, ..., 1.418e-01, 2.218e-01,\n",
       "        7.820e-02],\n",
       "       [2.060e+01, 2.933e+01, 1.401e+02, ..., 2.650e-01, 4.087e-01,\n",
       "        1.240e-01],\n",
       "       [7.760e+00, 2.454e+01, 4.792e+01, ..., 0.000e+00, 2.871e-01,\n",
       "        7.039e-02]])"
      ]
     },
     "execution_count": 7,
     "metadata": {},
     "output_type": "execute_result"
    }
   ],
   "source": [
    "cancer['data']"
   ]
  },
  {
   "cell_type": "code",
   "execution_count": 8,
   "metadata": {},
   "outputs": [
    {
     "data": {
      "text/plain": [
       "array(['malignant', 'benign'], dtype='<U9')"
      ]
     },
     "execution_count": 8,
     "metadata": {},
     "output_type": "execute_result"
    }
   ],
   "source": [
    "cancer['target_names']"
   ]
  },
  {
   "cell_type": "code",
   "execution_count": 9,
   "metadata": {},
   "outputs": [
    {
     "data": {
      "text/plain": [
       "array(['mean radius', 'mean texture', 'mean perimeter', 'mean area',\n",
       "       'mean smoothness', 'mean compactness', 'mean concavity',\n",
       "       'mean concave points', 'mean symmetry', 'mean fractal dimension',\n",
       "       'radius error', 'texture error', 'perimeter error', 'area error',\n",
       "       'smoothness error', 'compactness error', 'concavity error',\n",
       "       'concave points error', 'symmetry error',\n",
       "       'fractal dimension error', 'worst radius', 'worst texture',\n",
       "       'worst perimeter', 'worst area', 'worst smoothness',\n",
       "       'worst compactness', 'worst concavity', 'worst concave points',\n",
       "       'worst symmetry', 'worst fractal dimension'], dtype='<U23')"
      ]
     },
     "execution_count": 9,
     "metadata": {},
     "output_type": "execute_result"
    }
   ],
   "source": [
    "cancer['feature_names']"
   ]
  },
  {
   "cell_type": "code",
   "execution_count": 10,
   "metadata": {},
   "outputs": [
    {
     "data": {
      "text/plain": [
       "array([0, 0, 0, 0, 0, 0, 0, 0, 0, 0, 0, 0, 0, 0, 0, 0, 0, 0, 0, 1, 1, 1,\n",
       "       0, 0, 0, 0, 0, 0, 0, 0, 0, 0, 0, 0, 0, 0, 0, 1, 0, 0, 0, 0, 0, 0,\n",
       "       0, 0, 1, 0, 1, 1, 1, 1, 1, 0, 0, 1, 0, 0, 1, 1, 1, 1, 0, 1, 0, 0,\n",
       "       1, 1, 1, 1, 0, 1, 0, 0, 1, 0, 1, 0, 0, 1, 1, 1, 0, 0, 1, 0, 0, 0,\n",
       "       1, 1, 1, 0, 1, 1, 0, 0, 1, 1, 1, 0, 0, 1, 1, 1, 1, 0, 1, 1, 0, 1,\n",
       "       1, 1, 1, 1, 1, 1, 1, 0, 0, 0, 1, 0, 0, 1, 1, 1, 0, 0, 1, 0, 1, 0,\n",
       "       0, 1, 0, 0, 1, 1, 0, 1, 1, 0, 1, 1, 1, 1, 0, 1, 1, 1, 1, 1, 1, 1,\n",
       "       1, 1, 0, 1, 1, 1, 1, 0, 0, 1, 0, 1, 1, 0, 0, 1, 1, 0, 0, 1, 1, 1,\n",
       "       1, 0, 1, 1, 0, 0, 0, 1, 0, 1, 0, 1, 1, 1, 0, 1, 1, 0, 0, 1, 0, 0,\n",
       "       0, 0, 1, 0, 0, 0, 1, 0, 1, 0, 1, 1, 0, 1, 0, 0, 0, 0, 1, 1, 0, 0,\n",
       "       1, 1, 1, 0, 1, 1, 1, 1, 1, 0, 0, 1, 1, 0, 1, 1, 0, 0, 1, 0, 1, 1,\n",
       "       1, 1, 0, 1, 1, 1, 1, 1, 0, 1, 0, 0, 0, 0, 0, 0, 0, 0, 0, 0, 0, 0,\n",
       "       0, 0, 1, 1, 1, 1, 1, 1, 0, 1, 0, 1, 1, 0, 1, 1, 0, 1, 0, 0, 1, 1,\n",
       "       1, 1, 1, 1, 1, 1, 1, 1, 1, 1, 1, 0, 1, 1, 0, 1, 0, 1, 1, 1, 1, 1,\n",
       "       1, 1, 1, 1, 1, 1, 1, 1, 1, 0, 1, 1, 1, 0, 1, 0, 1, 1, 1, 1, 0, 0,\n",
       "       0, 1, 1, 1, 1, 0, 1, 0, 1, 0, 1, 1, 1, 0, 1, 1, 1, 1, 1, 1, 1, 0,\n",
       "       0, 0, 1, 1, 1, 1, 1, 1, 1, 1, 1, 1, 1, 0, 0, 1, 0, 0, 0, 1, 0, 0,\n",
       "       1, 1, 1, 1, 1, 0, 1, 1, 1, 1, 1, 0, 1, 1, 1, 0, 1, 1, 0, 0, 1, 1,\n",
       "       1, 1, 1, 1, 0, 1, 1, 1, 1, 1, 1, 1, 0, 1, 1, 1, 1, 1, 0, 1, 1, 0,\n",
       "       1, 1, 1, 1, 1, 1, 1, 1, 1, 1, 1, 1, 0, 1, 0, 0, 1, 0, 1, 1, 1, 1,\n",
       "       1, 0, 1, 1, 0, 1, 0, 1, 1, 0, 1, 0, 1, 1, 1, 1, 1, 1, 1, 1, 0, 0,\n",
       "       1, 1, 1, 1, 1, 1, 0, 1, 1, 1, 1, 1, 1, 1, 1, 1, 1, 0, 1, 1, 1, 1,\n",
       "       1, 1, 1, 0, 1, 0, 1, 1, 0, 1, 1, 1, 1, 1, 0, 0, 1, 0, 1, 0, 1, 1,\n",
       "       1, 1, 1, 0, 1, 1, 0, 1, 0, 1, 0, 0, 1, 1, 1, 0, 1, 1, 1, 1, 1, 1,\n",
       "       1, 1, 1, 1, 1, 0, 1, 0, 0, 1, 1, 1, 1, 1, 1, 1, 1, 1, 1, 1, 1, 1,\n",
       "       1, 1, 1, 1, 1, 1, 1, 1, 1, 1, 1, 1, 0, 0, 0, 0, 0, 0, 1])"
      ]
     },
     "execution_count": 10,
     "metadata": {},
     "output_type": "execute_result"
    }
   ],
   "source": [
    "cancer['target']"
   ]
  },
  {
   "cell_type": "markdown",
   "metadata": {},
   "source": [
    "### Part 2, Q1  --  [8 pts]\n",
    "How many features does the breast cancer dataset have? \n",
    "Hint :This function should return an integer."
   ]
  },
  {
   "cell_type": "code",
   "execution_count": 13,
   "metadata": {},
   "outputs": [
    {
     "name": "stdout",
     "output_type": "stream",
     "text": [
      "30\n"
     ]
    }
   ],
   "source": [
    "#Your code here\n",
    "def countFeature(key):\n",
    "    y1 = np.nonzero(cancer[key])\n",
    "    return np.argmax(y1) + 1\n",
    "\n",
    "print(countFeature('feature_names'))"
   ]
  },
  {
   "cell_type": "markdown",
   "metadata": {},
   "source": [
    "### Part 2, Q2  --  [7 pts]\n",
    "\n",
    "Scikit-learn is machine learning library for the Python programming language. It uses dataframe as a primary data container just like excel uses csv. hence, you need to convert the sklearn.dataset to DataFrame.\n",
    "\n",
    "Convert the sklearn.dataset cancer to a DataFrame.\n",
    "\n",
    "Hint: This function should return a (569, 31) DataFrame with\n",
    "columns =\n",
    "\n",
    "['mean radius', 'mean texture', 'mean perimeter', 'mean area',\n",
    "'mean smoothness', 'mean compactness', 'mean concavity',\n",
    "'mean concave points', 'mean symmetry', 'mean fractal dimension',\n",
    "'radius error', 'texture error', 'perimeter error', 'area error',\n",
    "'smoothness error', 'compactness error', 'concavity error',\n",
    "'concave points error', 'symmetry error', 'fractal dimension error',\n",
    "'worst radius', 'worst texture', 'worst perimeter', 'worst area',\n",
    "'worst smoothness', 'worst compactness', 'worst concavity',\n",
    "'worst concave points', 'worst symmetry', 'worst fractal dimension',\n",
    "'target']"
   ]
  },
  {
   "cell_type": "code",
   "execution_count": 14,
   "metadata": {},
   "outputs": [
    {
     "name": "stdout",
     "output_type": "stream",
     "text": [
      "     mean radius  mean texture  mean perimeter  mean area  mean smoothness  \\\n",
      "0          17.99         10.38          122.80     1001.0          0.11840   \n",
      "1          20.57         17.77          132.90     1326.0          0.08474   \n",
      "2          19.69         21.25          130.00     1203.0          0.10960   \n",
      "3          11.42         20.38           77.58      386.1          0.14250   \n",
      "4          20.29         14.34          135.10     1297.0          0.10030   \n",
      "..           ...           ...             ...        ...              ...   \n",
      "564        21.56         22.39          142.00     1479.0          0.11100   \n",
      "565        20.13         28.25          131.20     1261.0          0.09780   \n",
      "566        16.60         28.08          108.30      858.1          0.08455   \n",
      "567        20.60         29.33          140.10     1265.0          0.11780   \n",
      "568         7.76         24.54           47.92      181.0          0.05263   \n",
      "\n",
      "     mean compactness  mean concavity  mean concave points  mean symmetry  \\\n",
      "0             0.27760         0.30010              0.14710         0.2419   \n",
      "1             0.07864         0.08690              0.07017         0.1812   \n",
      "2             0.15990         0.19740              0.12790         0.2069   \n",
      "3             0.28390         0.24140              0.10520         0.2597   \n",
      "4             0.13280         0.19800              0.10430         0.1809   \n",
      "..                ...             ...                  ...            ...   \n",
      "564           0.11590         0.24390              0.13890         0.1726   \n",
      "565           0.10340         0.14400              0.09791         0.1752   \n",
      "566           0.10230         0.09251              0.05302         0.1590   \n",
      "567           0.27700         0.35140              0.15200         0.2397   \n",
      "568           0.04362         0.00000              0.00000         0.1587   \n",
      "\n",
      "     mean fractal dimension  ...  worst texture  worst perimeter  worst area  \\\n",
      "0                   0.07871  ...          17.33           184.60      2019.0   \n",
      "1                   0.05667  ...          23.41           158.80      1956.0   \n",
      "2                   0.05999  ...          25.53           152.50      1709.0   \n",
      "3                   0.09744  ...          26.50            98.87       567.7   \n",
      "4                   0.05883  ...          16.67           152.20      1575.0   \n",
      "..                      ...  ...            ...              ...         ...   \n",
      "564                 0.05623  ...          26.40           166.10      2027.0   \n",
      "565                 0.05533  ...          38.25           155.00      1731.0   \n",
      "566                 0.05648  ...          34.12           126.70      1124.0   \n",
      "567                 0.07016  ...          39.42           184.60      1821.0   \n",
      "568                 0.05884  ...          30.37            59.16       268.6   \n",
      "\n",
      "     worst smoothness  worst compactness  worst concavity  \\\n",
      "0             0.16220            0.66560           0.7119   \n",
      "1             0.12380            0.18660           0.2416   \n",
      "2             0.14440            0.42450           0.4504   \n",
      "3             0.20980            0.86630           0.6869   \n",
      "4             0.13740            0.20500           0.4000   \n",
      "..                ...                ...              ...   \n",
      "564           0.14100            0.21130           0.4107   \n",
      "565           0.11660            0.19220           0.3215   \n",
      "566           0.11390            0.30940           0.3403   \n",
      "567           0.16500            0.86810           0.9387   \n",
      "568           0.08996            0.06444           0.0000   \n",
      "\n",
      "     worst concave points  worst symmetry  worst fractal dimension  target  \n",
      "0                  0.2654          0.4601                  0.11890       0  \n",
      "1                  0.1860          0.2750                  0.08902       0  \n",
      "2                  0.2430          0.3613                  0.08758       0  \n",
      "3                  0.2575          0.6638                  0.17300       0  \n",
      "4                  0.1625          0.2364                  0.07678       0  \n",
      "..                    ...             ...                      ...     ...  \n",
      "564                0.2216          0.2060                  0.07115       0  \n",
      "565                0.1628          0.2572                  0.06637       0  \n",
      "566                0.1418          0.2218                  0.07820       0  \n",
      "567                0.2650          0.4087                  0.12400       0  \n",
      "568                0.0000          0.2871                  0.07039       1  \n",
      "\n",
      "[569 rows x 31 columns]\n"
     ]
    }
   ],
   "source": [
    "#Your code here\n",
    "df = pd.DataFrame(cancer['data'], columns=cancer['feature_names'])\n",
    "df[\"target\"] = cancer['target']\n",
    "print(df)"
   ]
  },
  {
   "cell_type": "markdown",
   "metadata": {},
   "source": [
    "### Part 2, Q3  --  [7 pts]\n",
    "\n",
    "What is the class distribution? (i.e. how many instances of malignant (encoded 0) and how many benign (encoded 1)?)\n",
    "This function should return a Series of length 2 with integer values and index = ['malignant', 'benign']"
   ]
  },
  {
   "cell_type": "code",
   "execution_count": 15,
   "metadata": {},
   "outputs": [
    {
     "data": {
      "text/plain": [
       "malignant    212\n",
       "benign       357\n",
       "dtype: int64"
      ]
     },
     "execution_count": 15,
     "metadata": {},
     "output_type": "execute_result"
    }
   ],
   "source": [
    "#Your code here\n",
    "def classDistri():\n",
    "    total = len(cancer['target'])\n",
    "    nonzero = np.argmax(np.nonzero(cancer['target'])) + 1\n",
    "    value = np.array([total - nonzero, nonzero])\n",
    "    ser = pd.Series(value, cancer['target_names'])\n",
    "    return ser\n",
    "\n",
    "classDistri()"
   ]
  },
  {
   "cell_type": "markdown",
   "metadata": {},
   "source": [
    "### Part 2, Q4  --  [7 pts]\n",
    "\n",
    "Split the DataFrame into X (the data) and y (the labels).\n",
    "\n",
    "This function should return a tuple of length 2: (X, y), where\n",
    "\n",
    "- X has shape (569, 30)\n",
    "- y has shape (569,).\n",
    "\n",
    "for more information about tuple refer to http://bagrow.com/ds1/whirlwindtourpython/07-Built-in-Data-Structures.html"
   ]
  },
  {
   "cell_type": "code",
   "execution_count": 16,
   "metadata": {},
   "outputs": [
    {
     "name": "stdout",
     "output_type": "stream",
     "text": [
      "(array([[1.799e+01, 1.038e+01, 1.228e+02, ..., 2.654e-01, 4.601e-01,\n",
      "        1.189e-01],\n",
      "       [2.057e+01, 1.777e+01, 1.329e+02, ..., 1.860e-01, 2.750e-01,\n",
      "        8.902e-02],\n",
      "       [1.969e+01, 2.125e+01, 1.300e+02, ..., 2.430e-01, 3.613e-01,\n",
      "        8.758e-02],\n",
      "       ...,\n",
      "       [1.660e+01, 2.808e+01, 1.083e+02, ..., 1.418e-01, 2.218e-01,\n",
      "        7.820e-02],\n",
      "       [2.060e+01, 2.933e+01, 1.401e+02, ..., 2.650e-01, 4.087e-01,\n",
      "        1.240e-01],\n",
      "       [7.760e+00, 2.454e+01, 4.792e+01, ..., 0.000e+00, 2.871e-01,\n",
      "        7.039e-02]]), array([0, 0, 0, 0, 0, 0, 0, 0, 0, 0, 0, 0, 0, 0, 0, 0, 0, 0, 0, 1, 1, 1,\n",
      "       0, 0, 0, 0, 0, 0, 0, 0, 0, 0, 0, 0, 0, 0, 0, 1, 0, 0, 0, 0, 0, 0,\n",
      "       0, 0, 1, 0, 1, 1, 1, 1, 1, 0, 0, 1, 0, 0, 1, 1, 1, 1, 0, 1, 0, 0,\n",
      "       1, 1, 1, 1, 0, 1, 0, 0, 1, 0, 1, 0, 0, 1, 1, 1, 0, 0, 1, 0, 0, 0,\n",
      "       1, 1, 1, 0, 1, 1, 0, 0, 1, 1, 1, 0, 0, 1, 1, 1, 1, 0, 1, 1, 0, 1,\n",
      "       1, 1, 1, 1, 1, 1, 1, 0, 0, 0, 1, 0, 0, 1, 1, 1, 0, 0, 1, 0, 1, 0,\n",
      "       0, 1, 0, 0, 1, 1, 0, 1, 1, 0, 1, 1, 1, 1, 0, 1, 1, 1, 1, 1, 1, 1,\n",
      "       1, 1, 0, 1, 1, 1, 1, 0, 0, 1, 0, 1, 1, 0, 0, 1, 1, 0, 0, 1, 1, 1,\n",
      "       1, 0, 1, 1, 0, 0, 0, 1, 0, 1, 0, 1, 1, 1, 0, 1, 1, 0, 0, 1, 0, 0,\n",
      "       0, 0, 1, 0, 0, 0, 1, 0, 1, 0, 1, 1, 0, 1, 0, 0, 0, 0, 1, 1, 0, 0,\n",
      "       1, 1, 1, 0, 1, 1, 1, 1, 1, 0, 0, 1, 1, 0, 1, 1, 0, 0, 1, 0, 1, 1,\n",
      "       1, 1, 0, 1, 1, 1, 1, 1, 0, 1, 0, 0, 0, 0, 0, 0, 0, 0, 0, 0, 0, 0,\n",
      "       0, 0, 1, 1, 1, 1, 1, 1, 0, 1, 0, 1, 1, 0, 1, 1, 0, 1, 0, 0, 1, 1,\n",
      "       1, 1, 1, 1, 1, 1, 1, 1, 1, 1, 1, 0, 1, 1, 0, 1, 0, 1, 1, 1, 1, 1,\n",
      "       1, 1, 1, 1, 1, 1, 1, 1, 1, 0, 1, 1, 1, 0, 1, 0, 1, 1, 1, 1, 0, 0,\n",
      "       0, 1, 1, 1, 1, 0, 1, 0, 1, 0, 1, 1, 1, 0, 1, 1, 1, 1, 1, 1, 1, 0,\n",
      "       0, 0, 1, 1, 1, 1, 1, 1, 1, 1, 1, 1, 1, 0, 0, 1, 0, 0, 0, 1, 0, 0,\n",
      "       1, 1, 1, 1, 1, 0, 1, 1, 1, 1, 1, 0, 1, 1, 1, 0, 1, 1, 0, 0, 1, 1,\n",
      "       1, 1, 1, 1, 0, 1, 1, 1, 1, 1, 1, 1, 0, 1, 1, 1, 1, 1, 0, 1, 1, 0,\n",
      "       1, 1, 1, 1, 1, 1, 1, 1, 1, 1, 1, 1, 0, 1, 0, 0, 1, 0, 1, 1, 1, 1,\n",
      "       1, 0, 1, 1, 0, 1, 0, 1, 1, 0, 1, 0, 1, 1, 1, 1, 1, 1, 1, 1, 0, 0,\n",
      "       1, 1, 1, 1, 1, 1, 0, 1, 1, 1, 1, 1, 1, 1, 1, 1, 1, 0, 1, 1, 1, 1,\n",
      "       1, 1, 1, 0, 1, 0, 1, 1, 0, 1, 1, 1, 1, 1, 0, 0, 1, 0, 1, 0, 1, 1,\n",
      "       1, 1, 1, 0, 1, 1, 0, 1, 0, 1, 0, 0, 1, 1, 1, 0, 1, 1, 1, 1, 1, 1,\n",
      "       1, 1, 1, 1, 1, 0, 1, 0, 0, 1, 1, 1, 1, 1, 1, 1, 1, 1, 1, 1, 1, 1,\n",
      "       1, 1, 1, 1, 1, 1, 1, 1, 1, 1, 1, 1, 0, 0, 0, 0, 0, 0, 1]))\n"
     ]
    }
   ],
   "source": [
    "#Your code here\n",
    "def splitDataFrame():\n",
    "    df1 = np.array(df.iloc[0:569, 0:30])\n",
    "    df2 = np.array(df.iloc[0:569, 30])\n",
    "    t = (df1, df2)\n",
    "    return t\n",
    "\n",
    "print(splitDataFrame())"
   ]
  },
  {
   "cell_type": "markdown",
   "metadata": {},
   "source": [
    "### Part 2, Q5  --  [7 pts]\n",
    "Plot the histogram of 'malignant' and 'benign'.\n",
    "\n",
    "Histogram is way to show the frequency of a set of continuous data. In this case, there are 2 labels ('malignant' and 'benign').The name of the labels will be in the x-axis and the frequency count of those labels will be in the y-axis.\n",
    "\n",
    "You can find more about Histogram here:\n",
    "\n",
    "https://statistics.laerd.com/statistical-guides/understanding-histograms.php"
   ]
  },
  {
   "cell_type": "code",
   "execution_count": 23,
   "metadata": {},
   "outputs": [
    {
     "name": "stdout",
     "output_type": "stream",
     "text": [
      "malignant    212\n",
      "benign       357\n",
      "dtype: int64\n",
      "['malignant' 'benign']\n",
      "[212 357]\n"
     ]
    },
    {
     "data": {
      "text/plain": [
       "<BarContainer object of 2 artists>"
      ]
     },
     "execution_count": 23,
     "metadata": {},
     "output_type": "execute_result"
    },
    {
     "data": {
      "image/png": "[encoded data removed]",
      "text/plain": [
       "<Figure size 432x288 with 1 Axes>"
      ]
     },
     "metadata": {
      "needs_background": "light"
     },
     "output_type": "display_data"
    }
   ],
   "source": [
    "#Your code here\n",
    "ser = classDistri()\n",
    "print(ser)\n",
    "label = np.array((\"malignant\", \"benign\"))\n",
    "count = np.array((ser[0], ser[1]))\n",
    "print(label)\n",
    "print(count)\n",
    "\n",
    "plt.figure()\n",
    "plt.bar(label, count, width=0.8)"
   ]
  }
 ],
 "metadata": {
  "kernelspec": {
   "display_name": "Python 3",
   "language": "python",
   "name": "python3"
  },
  "language_info": {
   "codemirror_mode": {
    "name": "ipython",
    "version": 3
   },
   "file_extension": ".py",
   "mimetype": "text/x-python",
   "name": "python",
   "nbconvert_exporter": "python",
   "pygments_lexer": "ipython3",
   "version": "3.8.8"
  }
 },
 "nbformat": 4,
 "nbformat_minor": 2
}
