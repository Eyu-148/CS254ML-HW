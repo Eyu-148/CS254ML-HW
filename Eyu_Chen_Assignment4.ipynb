{
  "nbformat": 4,
  "nbformat_minor": 0,
  "metadata": {
    "kernelspec": {
      "display_name": "Python 3",
      "language": "python",
      "name": "python3"
    },
    "language_info": {
      "codemirror_mode": {
        "name": "ipython",
        "version": 3
      },
      "file_extension": ".py",
      "mimetype": "text/x-python",
      "name": "python",
      "nbconvert_exporter": "python",
      "pygments_lexer": "ipython3",
      "version": "3.8.8"
    },
    "colab": {
      "name": "Eyu_Chen_Assignment4.ipynb",
      "provenance": [],
      "include_colab_link": true
    }
  },
  "cells": [
    {
      "cell_type": "markdown",
      "metadata": {
        "id": "view-in-github",
        "colab_type": "text"
      },
      "source": [
        "<a href=\"https://colab.research.google.com/github/Eyu-148/CS254ML-HW/blob/main/Eyu_Chen_Assignment4.ipynb\" target=\"_parent\"><img src=\"https://colab.research.google.com/assets/colab-badge.svg\" alt=\"Open In Colab\"/></a>"
      ]
    },
    {
      "cell_type": "markdown",
      "metadata": {
        "id": "IIXaA2FMwGhi"
      },
      "source": [
        "# Assignment 4\n"
      ]
    },
    {
      "cell_type": "code",
      "metadata": {
        "id": "r-iDQMy-wGhr"
      },
      "source": [
        "# import modules\n",
        "import numpy as np\n",
        "import pandas as pd\n",
        "import matplotlib.pyplot as plt\n",
        "\n",
        "# sklearn utilities\n",
        "from sklearn import datasets\n",
        "from sklearn.model_selection import train_test_split\n",
        "from sklearn.metrics import confusion_matrix, classification_report\n",
        "\n",
        "# sklearn models\n",
        "from sklearn.linear_model import LogisticRegression\n",
        "from sklearn.tree import DecisionTreeClassifier\n",
        "from sklearn.svm import SVC\n",
        "from sklearn.ensemble import RandomForestClassifier\n",
        "from sklearn.decomposition import PCA"
      ],
      "execution_count": 1,
      "outputs": []
    },
    {
      "cell_type": "markdown",
      "metadata": {
        "id": "cDtYGDUUwGhv"
      },
      "source": [
        "## Part 0: Prepare the data"
      ]
    },
    {
      "cell_type": "markdown",
      "metadata": {
        "id": "WlMW0I0mwGhw"
      },
      "source": [
        "#### Q1) (10 points) Load Data\n",
        "- Use the sklearn load_digits() function to collect your data. \n",
        "- You will be using this data for the entire assignment. \n",
        "- Using the .data and .features attributes of this dataset and create a pandas dataframe.<br><br>Note: You will not need this dataframe for any of the preceding questions. The purpose of making this dataframe is to practice this paradigm."
      ]
    },
    {
      "cell_type": "code",
      "metadata": {
        "id": "35BOEEj1wGhx"
      },
      "source": [
        "digits = datasets.load_digits()\n",
        "df = pd.DataFrame(digits.data)"
      ],
      "execution_count": 2,
      "outputs": []
    },
    {
      "cell_type": "markdown",
      "metadata": {
        "id": "ZwbHZkjywGhy"
      },
      "source": [
        "#### Q2) (10 points) Visualize data-points\n",
        "- Use matplotlib.pyplot's imshow function to display the first five items in our dataset. \n",
        "- Be sure to include the target value with these five images."
      ]
    },
    {
      "cell_type": "code",
      "metadata": {
        "id": "oK_rbYMHwGhz",
        "colab": {
          "base_uri": "https://localhost:8080/",
          "height": 1000
        },
        "outputId": "2cf89422-0742-4a3d-c7de-e098e46fc636"
      },
      "source": [
        "for i in range(0,5):\n",
        "  plt.title(\"Target Value = \" + str(digits.target[i]))\n",
        "  plt.imshow(digits.images[i])\n",
        "  plt.show()"
      ],
      "execution_count": 3,
      "outputs": [
        {
          "output_type": "display_data",
          "data": {
            "image/png": "[encoded data removed]",
            "text/plain": [
              "<Figure size 432x288 with 1 Axes>"
            ]
          },
          "metadata": {
            "needs_background": "light"
          }
        },
        {
          "output_type": "display_data",
          "data": {
            "image/png": "[encoded data removed]",
            "text/plain": [
              "<Figure size 432x288 with 1 Axes>"
            ]
          },
          "metadata": {
            "needs_background": "light"
          }
        },
        {
          "output_type": "display_data",
          "data": {
            "image/png": "[encoded data removed]",
            "text/plain": [
              "<Figure size 432x288 with 1 Axes>"
            ]
          },
          "metadata": {
            "needs_background": "light"
          }
        },
        {
          "output_type": "display_data",
          "data": {
            "image/png": "[encoded data removed]",
            "text/plain": [
              "<Figure size 432x288 with 1 Axes>"
            ]
          },
          "metadata": {
            "needs_background": "light"
          }
        },
        {
          "output_type": "display_data",
          "data": {
            "image/png": "[encoded data removed]",
            "text/plain": [
              "<Figure size 432x288 with 1 Axes>"
            ]
          },
          "metadata": {
            "needs_background": "light"
          }
        }
      ]
    },
    {
      "cell_type": "markdown",
      "metadata": {
        "id": "8UokBHB_wGh0"
      },
      "source": [
        "#### Grad Students Question (Extra credit for Undergraduates) ) (20 points) Dimensionality Reduction\n",
        "- Reduce the data into a two dimensional space using principle component analysis.\n",
        "- Once this data is transformed, create a scatter plot with different colors for different classes of data-points.<br><br>Hint: The PCA object in SKlearn operates the same way as the PolynomialFeatures object. That is, once you create a PCA object with some parameters, you can use it to \"fit_transform\" your data.<br> https://scikit-learn.org/stable/modules/generated/sklearn.decomposition.PCA.html"
      ]
    },
    {
      "cell_type": "code",
      "metadata": {
        "id": "Nuy4yUakwGh3",
        "colab": {
          "base_uri": "https://localhost:8080/",
          "height": 299
        },
        "outputId": "832c9a5b-9278-4141-cbd6-6447fed8554d"
      },
      "source": [
        "pca = PCA(n_components=1)\n",
        "x_pca = digits.data\n",
        "x_pca = pca.fit_transform(digits.data)\n",
        "plt.scatter(x_pca, digits.target)"
      ],
      "execution_count": 44,
      "outputs": [
        {
          "output_type": "execute_result",
          "data": {
            "text/plain": [
              "<matplotlib.collections.PathCollection at 0x7f7c8eca9350>"
            ]
          },
          "metadata": {},
          "execution_count": 44
        },
        {
          "output_type": "display_data",
          "data": {
            "image/png": "[encoded data removed]",
            "text/plain": [
              "<Figure size 432x288 with 1 Axes>"
            ]
          },
          "metadata": {
            "needs_background": "light"
          }
        }
      ]
    },
    {
      "cell_type": "markdown",
      "metadata": {
        "id": "XOm2Ry63wGh5"
      },
      "source": [
        "#### Q3) (10 points) Train Test Split\n",
        "- We need to split our data into two groups in order to validate model performance and generalization ability\n",
        "- Use the sklearn train_test_split function to obtain training data and testing data. \n",
        "- Important: you must use a test size of 0.25 and a random_state of 0."
      ]
    },
    {
      "cell_type": "code",
      "metadata": {
        "id": "gUJdCv8JwGh6"
      },
      "source": [
        "X_train, X_test, y_train, y_test = train_test_split(digits.data, digits.target, test_size=0.25, random_state=0)"
      ],
      "execution_count": 4,
      "outputs": []
    },
    {
      "cell_type": "markdown",
      "metadata": {
        "id": "F8K8D_QJwGh7"
      },
      "source": [
        "## Part 1: Regression"
      ]
    },
    {
      "cell_type": "markdown",
      "metadata": {
        "id": "oywk6cXMwGh8"
      },
      "source": [
        "#### Q4)  (10 points) Logistic Regression model\n",
        "- Create a LogisticRegression object which can be imported from sklearn's linear_model module.\n",
        "- Call the .fit() function on your model with x_train and y_train as parameters.\n",
        "- Call the .predict() function on your model with x_test as a parameter"
      ]
    },
    {
      "cell_type": "code",
      "metadata": {
        "id": "GK1Bxph2wGh9"
      },
      "source": [
        "# training data and test with predict function, obtain the predicted values\n",
        "model = LogisticRegression(random_state=0, solver='liblinear')\n",
        "clf = model.fit(X_train, y_train)\n",
        "y_predicted = clf.predict(X_test)"
      ],
      "execution_count": 26,
      "outputs": []
    },
    {
      "cell_type": "markdown",
      "metadata": {
        "id": "wMLr4RLiwGh-"
      },
      "source": [
        "#### Q5) (10 points) Visualization\n",
        "- Use sklearn's confusion matrix function to obtain a confusion matrix in np.array format\n",
        "- Display this confusion matrix as a pandas DataFrame (with target class names in the columns and index fields).\n",
        "- Display this confusion matrix as a heatmap using matplotlib.pyplot's .imshow() function."
      ]
    },
    {
      "cell_type": "code",
      "metadata": {
        "id": "SPwemt8mwGh_",
        "colab": {
          "base_uri": "https://localhost:8080/",
          "height": 624
        },
        "outputId": "af945860-54d0-44ae-e234-20cd0a86311c"
      },
      "source": [
        "# make confusion matrix with actual value and predicted value\n",
        "# actual target value = y_test\n",
        "# i-th class(row) is for actual label\n",
        "# j-th class(column) is for predicted label\n",
        "cm = confusion_matrix(y_test, y_predicted)\n",
        "plt.imshow(cm)\n",
        "pd.DataFrame(data=cm, index=digits.target_names, columns=digits.target_names)"
      ],
      "execution_count": 27,
      "outputs": [
        {
          "output_type": "execute_result",
          "data": {
            "text/html": [
              "<div>\n",
              "<style scoped>\n",
              "    .dataframe tbody tr th:only-of-type {\n",
              "        vertical-align: middle;\n",
              "    }\n",
              "\n",
              "    .dataframe tbody tr th {\n",
              "        vertical-align: top;\n",
              "    }\n",
              "\n",
              "    .dataframe thead th {\n",
              "        text-align: right;\n",
              "    }\n",
              "</style>\n",
              "<table border=\"1\" class=\"dataframe\">\n",
              "  <thead>\n",
              "    <tr style=\"text-align: right;\">\n",
              "      <th></th>\n",
              "      <th>0</th>\n",
              "      <th>1</th>\n",
              "      <th>2</th>\n",
              "      <th>3</th>\n",
              "      <th>4</th>\n",
              "      <th>5</th>\n",
              "      <th>6</th>\n",
              "      <th>7</th>\n",
              "      <th>8</th>\n",
              "      <th>9</th>\n",
              "    </tr>\n",
              "  </thead>\n",
              "  <tbody>\n",
              "    <tr>\n",
              "      <th>0</th>\n",
              "      <td>37</td>\n",
              "      <td>0</td>\n",
              "      <td>0</td>\n",
              "      <td>0</td>\n",
              "      <td>0</td>\n",
              "      <td>0</td>\n",
              "      <td>0</td>\n",
              "      <td>0</td>\n",
              "      <td>0</td>\n",
              "      <td>0</td>\n",
              "    </tr>\n",
              "    <tr>\n",
              "      <th>1</th>\n",
              "      <td>0</td>\n",
              "      <td>39</td>\n",
              "      <td>0</td>\n",
              "      <td>0</td>\n",
              "      <td>0</td>\n",
              "      <td>0</td>\n",
              "      <td>2</td>\n",
              "      <td>0</td>\n",
              "      <td>2</td>\n",
              "      <td>0</td>\n",
              "    </tr>\n",
              "    <tr>\n",
              "      <th>2</th>\n",
              "      <td>0</td>\n",
              "      <td>0</td>\n",
              "      <td>41</td>\n",
              "      <td>3</td>\n",
              "      <td>0</td>\n",
              "      <td>0</td>\n",
              "      <td>0</td>\n",
              "      <td>0</td>\n",
              "      <td>0</td>\n",
              "      <td>0</td>\n",
              "    </tr>\n",
              "    <tr>\n",
              "      <th>3</th>\n",
              "      <td>0</td>\n",
              "      <td>0</td>\n",
              "      <td>1</td>\n",
              "      <td>43</td>\n",
              "      <td>0</td>\n",
              "      <td>0</td>\n",
              "      <td>0</td>\n",
              "      <td>0</td>\n",
              "      <td>0</td>\n",
              "      <td>1</td>\n",
              "    </tr>\n",
              "    <tr>\n",
              "      <th>4</th>\n",
              "      <td>0</td>\n",
              "      <td>0</td>\n",
              "      <td>0</td>\n",
              "      <td>0</td>\n",
              "      <td>38</td>\n",
              "      <td>0</td>\n",
              "      <td>0</td>\n",
              "      <td>0</td>\n",
              "      <td>0</td>\n",
              "      <td>0</td>\n",
              "    </tr>\n",
              "    <tr>\n",
              "      <th>5</th>\n",
              "      <td>0</td>\n",
              "      <td>1</td>\n",
              "      <td>0</td>\n",
              "      <td>0</td>\n",
              "      <td>0</td>\n",
              "      <td>47</td>\n",
              "      <td>0</td>\n",
              "      <td>0</td>\n",
              "      <td>0</td>\n",
              "      <td>0</td>\n",
              "    </tr>\n",
              "    <tr>\n",
              "      <th>6</th>\n",
              "      <td>0</td>\n",
              "      <td>0</td>\n",
              "      <td>0</td>\n",
              "      <td>0</td>\n",
              "      <td>0</td>\n",
              "      <td>0</td>\n",
              "      <td>52</td>\n",
              "      <td>0</td>\n",
              "      <td>0</td>\n",
              "      <td>0</td>\n",
              "    </tr>\n",
              "    <tr>\n",
              "      <th>7</th>\n",
              "      <td>0</td>\n",
              "      <td>1</td>\n",
              "      <td>0</td>\n",
              "      <td>1</td>\n",
              "      <td>1</td>\n",
              "      <td>0</td>\n",
              "      <td>0</td>\n",
              "      <td>45</td>\n",
              "      <td>0</td>\n",
              "      <td>0</td>\n",
              "    </tr>\n",
              "    <tr>\n",
              "      <th>8</th>\n",
              "      <td>0</td>\n",
              "      <td>3</td>\n",
              "      <td>1</td>\n",
              "      <td>0</td>\n",
              "      <td>0</td>\n",
              "      <td>0</td>\n",
              "      <td>0</td>\n",
              "      <td>0</td>\n",
              "      <td>43</td>\n",
              "      <td>1</td>\n",
              "    </tr>\n",
              "    <tr>\n",
              "      <th>9</th>\n",
              "      <td>0</td>\n",
              "      <td>0</td>\n",
              "      <td>0</td>\n",
              "      <td>1</td>\n",
              "      <td>0</td>\n",
              "      <td>1</td>\n",
              "      <td>0</td>\n",
              "      <td>0</td>\n",
              "      <td>1</td>\n",
              "      <td>44</td>\n",
              "    </tr>\n",
              "  </tbody>\n",
              "</table>\n",
              "</div>"
            ],
            "text/plain": [
              "    0   1   2   3   4   5   6   7   8   9\n",
              "0  37   0   0   0   0   0   0   0   0   0\n",
              "1   0  39   0   0   0   0   2   0   2   0\n",
              "2   0   0  41   3   0   0   0   0   0   0\n",
              "3   0   0   1  43   0   0   0   0   0   1\n",
              "4   0   0   0   0  38   0   0   0   0   0\n",
              "5   0   1   0   0   0  47   0   0   0   0\n",
              "6   0   0   0   0   0   0  52   0   0   0\n",
              "7   0   1   0   1   1   0   0  45   0   0\n",
              "8   0   3   1   0   0   0   0   0  43   1\n",
              "9   0   0   0   1   0   1   0   0   1  44"
            ]
          },
          "metadata": {},
          "execution_count": 27
        },
        {
          "output_type": "display_data",
          "data": {
            "image/png": "[encoded data removed]",
            "text/plain": [
              "<Figure size 432x288 with 1 Axes>"
            ]
          },
          "metadata": {
            "needs_background": "light"
          }
        }
      ]
    },
    {
      "cell_type": "markdown",
      "metadata": {
        "id": "fWQkpNOVwGiA"
      },
      "source": [
        "#### Q6) (15 points) Performance Metrics\n",
        "- Create a function to calculate the precision values for all classes.\n",
        "- Create a function to calculate the recall values for all classes.\n",
        "- Use sklearn's classification_report as a reference for \"correct\" precision and recall values."
      ]
    },
    {
      "cell_type": "code",
      "metadata": {
        "id": "C4GgTDumwGiA"
      },
      "source": [
        "def custom_precision_recall(conf_matrix):\n",
        "  # precision = true positive / total of predicted positive\n",
        "  # recall = true positive / total of actual positive\n",
        "  # true positive are on the diagonal\n",
        "  # false positive are column-wise sums without diagonal\n",
        "  # false negative are row-wise sums without diagonal\n",
        "  true_pos = np.diag(conf_matrix)\n",
        "  false_pos = np.sum(conf_matrix, axis=0) - true_pos\n",
        "  false_neg = np.sum(conf_matrix, axis=1) - true_pos\n",
        "\n",
        "  precision = true_pos / (true_pos + false_pos)\n",
        "  recall = true_pos / (true_pos + false_neg)\n",
        "\n",
        "  return precision, recall"
      ],
      "execution_count": 28,
      "outputs": []
    },
    {
      "cell_type": "code",
      "metadata": {
        "id": "HeEBCk9GwGiB",
        "colab": {
          "base_uri": "https://localhost:8080/"
        },
        "outputId": "04d75d42-f96d-4767-e004-173e0eb34b52"
      },
      "source": [
        "print(\"*** By Built-in method ***\")\n",
        "print(classification_report(y_test, y_predicted))\n",
        "\n",
        "print(\"*** By Formula(precision + recall) ***\")\n",
        "custom_precision_recall(cm)"
      ],
      "execution_count": 29,
      "outputs": [
        {
          "output_type": "stream",
          "name": "stdout",
          "text": [
            "*** By Built-in method ***\n",
            "              precision    recall  f1-score   support\n",
            "\n",
            "           0       1.00      1.00      1.00        37\n",
            "           1       0.89      0.91      0.90        43\n",
            "           2       0.95      0.93      0.94        44\n",
            "           3       0.90      0.96      0.92        45\n",
            "           4       0.97      1.00      0.99        38\n",
            "           5       0.98      0.98      0.98        48\n",
            "           6       0.96      1.00      0.98        52\n",
            "           7       1.00      0.94      0.97        48\n",
            "           8       0.93      0.90      0.91        48\n",
            "           9       0.96      0.94      0.95        47\n",
            "\n",
            "    accuracy                           0.95       450\n",
            "   macro avg       0.95      0.95      0.95       450\n",
            "weighted avg       0.95      0.95      0.95       450\n",
            "\n",
            "*** By Formula(precision + recall) ***\n"
          ]
        },
        {
          "output_type": "execute_result",
          "data": {
            "text/plain": [
              "(array([1.        , 0.88636364, 0.95348837, 0.89583333, 0.97435897,\n",
              "        0.97916667, 0.96296296, 1.        , 0.93478261, 0.95652174]),\n",
              " array([1.        , 0.90697674, 0.93181818, 0.95555556, 1.        ,\n",
              "        0.97916667, 1.        , 0.9375    , 0.89583333, 0.93617021]))"
            ]
          },
          "metadata": {},
          "execution_count": 29
        }
      ]
    },
    {
      "cell_type": "markdown",
      "metadata": {
        "id": "VQC1py2RwGiB"
      },
      "source": [
        "## Part 2: Support Vector Machine"
      ]
    },
    {
      "cell_type": "markdown",
      "metadata": {
        "id": "OEsZskWJwGiC"
      },
      "source": [
        "#### Q7) (10 points) SVM model\n",
        "- Create an SVC object which can be imported from sklearn's svm module.\n",
        "- Call the .fit() function on your model with x_train and y_train as parameters.\n",
        "- Call the .predict() function on your model with x_test as a parameter"
      ]
    },
    {
      "cell_type": "code",
      "metadata": {
        "id": "0zoooH0KwGiD"
      },
      "source": [
        "model_svc = SVC(kernel=\"linear\")\n",
        "clf_svc = model_svc.fit(X_train, y_train)\n",
        "y_predictedsvc = clf_svc.predict(X_test)"
      ],
      "execution_count": 32,
      "outputs": []
    },
    {
      "cell_type": "markdown",
      "metadata": {
        "id": "2pKMo3qHwGiD"
      },
      "source": [
        "#### Q8) (10 points) Visualization\n",
        "- Use sklearn's confusion matrix function to obtain a confusion matrix in np.array format\n",
        "- Display this confusion matrix as a pandas DataFrame (with target class names in the columns and index fields).\n",
        "- Display this confusion matrix as a heatmap using matplotlib.pyplot's .imshow() function."
      ]
    },
    {
      "cell_type": "code",
      "metadata": {
        "id": "mTPOW3NwwGiE",
        "colab": {
          "base_uri": "https://localhost:8080/",
          "height": 624
        },
        "outputId": "d80f3964-8e68-4762-ba0c-f824760c6383"
      },
      "source": [
        "cm_svc = confusion_matrix(y_test, y_predictedsvc)\n",
        "plt.imshow(cm_svc)\n",
        "pd.DataFrame(cm_svc, columns=digits.target_names, index=digits.target_names)"
      ],
      "execution_count": 33,
      "outputs": [
        {
          "output_type": "execute_result",
          "data": {
            "text/html": [
              "<div>\n",
              "<style scoped>\n",
              "    .dataframe tbody tr th:only-of-type {\n",
              "        vertical-align: middle;\n",
              "    }\n",
              "\n",
              "    .dataframe tbody tr th {\n",
              "        vertical-align: top;\n",
              "    }\n",
              "\n",
              "    .dataframe thead th {\n",
              "        text-align: right;\n",
              "    }\n",
              "</style>\n",
              "<table border=\"1\" class=\"dataframe\">\n",
              "  <thead>\n",
              "    <tr style=\"text-align: right;\">\n",
              "      <th></th>\n",
              "      <th>0</th>\n",
              "      <th>1</th>\n",
              "      <th>2</th>\n",
              "      <th>3</th>\n",
              "      <th>4</th>\n",
              "      <th>5</th>\n",
              "      <th>6</th>\n",
              "      <th>7</th>\n",
              "      <th>8</th>\n",
              "      <th>9</th>\n",
              "    </tr>\n",
              "  </thead>\n",
              "  <tbody>\n",
              "    <tr>\n",
              "      <th>0</th>\n",
              "      <td>37</td>\n",
              "      <td>0</td>\n",
              "      <td>0</td>\n",
              "      <td>0</td>\n",
              "      <td>0</td>\n",
              "      <td>0</td>\n",
              "      <td>0</td>\n",
              "      <td>0</td>\n",
              "      <td>0</td>\n",
              "      <td>0</td>\n",
              "    </tr>\n",
              "    <tr>\n",
              "      <th>1</th>\n",
              "      <td>0</td>\n",
              "      <td>42</td>\n",
              "      <td>0</td>\n",
              "      <td>0</td>\n",
              "      <td>0</td>\n",
              "      <td>0</td>\n",
              "      <td>0</td>\n",
              "      <td>0</td>\n",
              "      <td>1</td>\n",
              "      <td>0</td>\n",
              "    </tr>\n",
              "    <tr>\n",
              "      <th>2</th>\n",
              "      <td>0</td>\n",
              "      <td>0</td>\n",
              "      <td>44</td>\n",
              "      <td>0</td>\n",
              "      <td>0</td>\n",
              "      <td>0</td>\n",
              "      <td>0</td>\n",
              "      <td>0</td>\n",
              "      <td>0</td>\n",
              "      <td>0</td>\n",
              "    </tr>\n",
              "    <tr>\n",
              "      <th>3</th>\n",
              "      <td>0</td>\n",
              "      <td>0</td>\n",
              "      <td>0</td>\n",
              "      <td>43</td>\n",
              "      <td>0</td>\n",
              "      <td>0</td>\n",
              "      <td>0</td>\n",
              "      <td>0</td>\n",
              "      <td>1</td>\n",
              "      <td>1</td>\n",
              "    </tr>\n",
              "    <tr>\n",
              "      <th>4</th>\n",
              "      <td>0</td>\n",
              "      <td>0</td>\n",
              "      <td>0</td>\n",
              "      <td>0</td>\n",
              "      <td>38</td>\n",
              "      <td>0</td>\n",
              "      <td>0</td>\n",
              "      <td>0</td>\n",
              "      <td>0</td>\n",
              "      <td>0</td>\n",
              "    </tr>\n",
              "    <tr>\n",
              "      <th>5</th>\n",
              "      <td>0</td>\n",
              "      <td>0</td>\n",
              "      <td>0</td>\n",
              "      <td>0</td>\n",
              "      <td>0</td>\n",
              "      <td>47</td>\n",
              "      <td>0</td>\n",
              "      <td>0</td>\n",
              "      <td>0</td>\n",
              "      <td>1</td>\n",
              "    </tr>\n",
              "    <tr>\n",
              "      <th>6</th>\n",
              "      <td>0</td>\n",
              "      <td>1</td>\n",
              "      <td>0</td>\n",
              "      <td>0</td>\n",
              "      <td>0</td>\n",
              "      <td>0</td>\n",
              "      <td>51</td>\n",
              "      <td>0</td>\n",
              "      <td>0</td>\n",
              "      <td>0</td>\n",
              "    </tr>\n",
              "    <tr>\n",
              "      <th>7</th>\n",
              "      <td>0</td>\n",
              "      <td>0</td>\n",
              "      <td>0</td>\n",
              "      <td>0</td>\n",
              "      <td>1</td>\n",
              "      <td>0</td>\n",
              "      <td>0</td>\n",
              "      <td>47</td>\n",
              "      <td>0</td>\n",
              "      <td>0</td>\n",
              "    </tr>\n",
              "    <tr>\n",
              "      <th>8</th>\n",
              "      <td>0</td>\n",
              "      <td>3</td>\n",
              "      <td>1</td>\n",
              "      <td>0</td>\n",
              "      <td>0</td>\n",
              "      <td>0</td>\n",
              "      <td>0</td>\n",
              "      <td>0</td>\n",
              "      <td>44</td>\n",
              "      <td>0</td>\n",
              "    </tr>\n",
              "    <tr>\n",
              "      <th>9</th>\n",
              "      <td>0</td>\n",
              "      <td>0</td>\n",
              "      <td>0</td>\n",
              "      <td>1</td>\n",
              "      <td>0</td>\n",
              "      <td>1</td>\n",
              "      <td>0</td>\n",
              "      <td>0</td>\n",
              "      <td>1</td>\n",
              "      <td>44</td>\n",
              "    </tr>\n",
              "  </tbody>\n",
              "</table>\n",
              "</div>"
            ],
            "text/plain": [
              "    0   1   2   3   4   5   6   7   8   9\n",
              "0  37   0   0   0   0   0   0   0   0   0\n",
              "1   0  42   0   0   0   0   0   0   1   0\n",
              "2   0   0  44   0   0   0   0   0   0   0\n",
              "3   0   0   0  43   0   0   0   0   1   1\n",
              "4   0   0   0   0  38   0   0   0   0   0\n",
              "5   0   0   0   0   0  47   0   0   0   1\n",
              "6   0   1   0   0   0   0  51   0   0   0\n",
              "7   0   0   0   0   1   0   0  47   0   0\n",
              "8   0   3   1   0   0   0   0   0  44   0\n",
              "9   0   0   0   1   0   1   0   0   1  44"
            ]
          },
          "metadata": {},
          "execution_count": 33
        },
        {
          "output_type": "display_data",
          "data": {
            "image/png": "[encoded data removed]",
            "text/plain": [
              "<Figure size 432x288 with 1 Axes>"
            ]
          },
          "metadata": {
            "needs_background": "light"
          }
        }
      ]
    },
    {
      "cell_type": "markdown",
      "metadata": {
        "id": "xN6SXcIUwGiF"
      },
      "source": [
        "#### Q9) (15 points) Performance Metrics and Comparison\n",
        "- Create a function to obtain useful metrics for your SVM's performance\n",
        "- There is no specific correct answer for a \"useful metric\", just make sure you can justify your metrics/process\n",
        "- How does this performance compare to that of the regression model? (and explain why this might be)"
      ]
    },
    {
      "cell_type": "code",
      "metadata": {
        "id": "G53SWH9HwGiF",
        "colab": {
          "base_uri": "https://localhost:8080/"
        },
        "outputId": "72f2d022-e281-419a-d2ec-5ffafa4c03aa"
      },
      "source": [
        "print(classification_report(y_test, y_predictedsvc))\n",
        "print(\"Cmpared with regression\")\n",
        "print(classification_report(y_test, y_predicted))"
      ],
      "execution_count": 34,
      "outputs": [
        {
          "output_type": "stream",
          "name": "stdout",
          "text": [
            "              precision    recall  f1-score   support\n",
            "\n",
            "           0       1.00      1.00      1.00        37\n",
            "           1       0.91      0.98      0.94        43\n",
            "           2       0.98      1.00      0.99        44\n",
            "           3       0.98      0.96      0.97        45\n",
            "           4       0.97      1.00      0.99        38\n",
            "           5       0.98      0.98      0.98        48\n",
            "           6       1.00      0.98      0.99        52\n",
            "           7       1.00      0.98      0.99        48\n",
            "           8       0.94      0.92      0.93        48\n",
            "           9       0.96      0.94      0.95        47\n",
            "\n",
            "    accuracy                           0.97       450\n",
            "   macro avg       0.97      0.97      0.97       450\n",
            "weighted avg       0.97      0.97      0.97       450\n",
            "\n",
            "Cmpared with regression\n",
            "              precision    recall  f1-score   support\n",
            "\n",
            "           0       1.00      1.00      1.00        37\n",
            "           1       0.89      0.91      0.90        43\n",
            "           2       0.95      0.93      0.94        44\n",
            "           3       0.90      0.96      0.92        45\n",
            "           4       0.97      1.00      0.99        38\n",
            "           5       0.98      0.98      0.98        48\n",
            "           6       0.96      1.00      0.98        52\n",
            "           7       1.00      0.94      0.97        48\n",
            "           8       0.93      0.90      0.91        48\n",
            "           9       0.96      0.94      0.95        47\n",
            "\n",
            "    accuracy                           0.95       450\n",
            "   macro avg       0.95      0.95      0.95       450\n",
            "weighted avg       0.95      0.95      0.95       450\n",
            "\n"
          ]
        }
      ]
    },
    {
      "cell_type": "markdown",
      "metadata": {
        "id": "CiY-55Yw2_mM"
      },
      "source": [
        "It is clear that SVC makes a similar perfomance with some higher report data than logisitic regression, which implies that SVC might do better in this case. Sometimes these 2 classifiers are the same in some cases. Both of them divide the feature space and come out with a decision boundary. Logisitic regression uses sigmoid function to predict the probability, while SVC decides the boundary in a geometric way and maximize the margin."
      ]
    }
  ]
}